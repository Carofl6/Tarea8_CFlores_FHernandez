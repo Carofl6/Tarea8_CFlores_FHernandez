{
 "cells": [
  {
   "cell_type": "markdown",
   "metadata": {},
   "source": [
    "<img style=\"float: left; margin: 30px 15px 15px 15px;\" src=\"https://pngimage.net/wp-content/uploads/2018/06/logo-iteso-png-5.png\" width=\"300\" height=\"500\" /> \n",
    "    \n",
    "    \n",
    "### <font color='navy'> Simulación de procesos financieros. \n",
    "\n",
    "**Nombres:** Carolina Flores Luelmo y Frida María Hernandez López.\n",
    "\n",
    "**Fecha:** 23 de noviembre del 2021.\n",
    "    \n",
    "**Expediente** : Carolina: 713578. Frida: 720476.\n",
    "    \n",
    "**Profesor:** Oscar David Jaramillo Zuluaga.\n",
    "\n",
    "**Liga GitHub:** https://github.com/FridaHernandezL/Tarea8_CFlores_FHernandez\n",
    "\n",
    "# Tarea 8. Clase 22"
   ]
  },
  {
   "cell_type": "markdown",
   "metadata": {},
   "source": [
    "1. Replicar el procedimiento anterior para valoración de opciones 'call', pero en este caso para opciones tipo 'put'.\n",
    "2. Además deben de comparar con los resultados teoricos del método de valuación de Black-Scholes (ecuación del principio de clase)"
   ]
  },
  {
   "cell_type": "markdown",
   "metadata": {},
   "source": [
    "#### Código de solución `ESTUDIANTE 1: CAROLINA FLORES`"
   ]
  },
  {
   "cell_type": "code",
   "execution_count": 1,
   "metadata": {},
   "outputs": [],
   "source": [
    "import pandas as pd\n",
    "import numpy as np\n",
    "import datetime\n",
    "import matplotlib.pyplot as plt\n",
    "#import pandas_datareader.data as web\n",
    "import scipy.stats as st\n",
    "import seaborn as sns\n",
    "import yfinance as yf \n",
    "pd.set_option('display.notebook_repr_html', True)\n",
    "pd.set_option('display.max_columns', 6)\n",
    "pd.set_option('display.max_rows', 10)\n",
    "pd.set_option('display.width', 78)\n",
    "pd.set_option('precision', 3)"
   ]
  },
  {
   "cell_type": "code",
   "execution_count": 2,
   "metadata": {},
   "outputs": [],
   "source": [
    "def options_yf(ticker : 'MSFT'):\n",
    "    \"\"\"\n",
    "    options_yf descarga información de opciones financieras con ayuda de yfinance\n",
    "    \n",
    "    *ticker : es el símbolo de cotización de la acción\n",
    "    \"\"\"\n",
    "    stock = yf.Ticker('MSFT')\n",
    "    calls, puts = stock.option_chain(stock.options[0]) \n",
    "    return calls, puts\n",
    "\n",
    " \n",
    "\n",
    "c, p = options_yf('MSFT')"
   ]
  },
  {
   "cell_type": "code",
   "execution_count": 3,
   "metadata": {},
   "outputs": [],
   "source": [
    "pd.options.display.max_columns = None"
   ]
  },
  {
   "cell_type": "code",
   "execution_count": 4,
   "metadata": {},
   "outputs": [],
   "source": [
    "pd.options.display.max_rows = None"
   ]
  },
  {
   "cell_type": "code",
   "execution_count": 5,
   "metadata": {},
   "outputs": [
    {
     "data": {
      "text/html": [
       "<div>\n",
       "<style scoped>\n",
       "    .dataframe tbody tr th:only-of-type {\n",
       "        vertical-align: middle;\n",
       "    }\n",
       "\n",
       "    .dataframe tbody tr th {\n",
       "        vertical-align: top;\n",
       "    }\n",
       "\n",
       "    .dataframe thead th {\n",
       "        text-align: right;\n",
       "    }\n",
       "</style>\n",
       "<table border=\"1\" class=\"dataframe\">\n",
       "  <thead>\n",
       "    <tr style=\"text-align: right;\">\n",
       "      <th></th>\n",
       "      <th>contractSymbol</th>\n",
       "      <th>lastTradeDate</th>\n",
       "      <th>strike</th>\n",
       "      <th>lastPrice</th>\n",
       "      <th>bid</th>\n",
       "      <th>ask</th>\n",
       "      <th>change</th>\n",
       "      <th>percentChange</th>\n",
       "      <th>volume</th>\n",
       "      <th>openInterest</th>\n",
       "      <th>impliedVolatility</th>\n",
       "      <th>inTheMoney</th>\n",
       "      <th>contractSize</th>\n",
       "      <th>currency</th>\n",
       "    </tr>\n",
       "  </thead>\n",
       "  <tbody>\n",
       "    <tr>\n",
       "      <th>0</th>\n",
       "      <td>MSFT211126P00150000</td>\n",
       "      <td>2021-11-19 18:59:23</td>\n",
       "      <td>150.0</td>\n",
       "      <td>0.01</td>\n",
       "      <td>0.0</td>\n",
       "      <td>0.01</td>\n",
       "      <td>0.00</td>\n",
       "      <td>0.000</td>\n",
       "      <td>10.0</td>\n",
       "      <td>20</td>\n",
       "      <td>2.625</td>\n",
       "      <td>False</td>\n",
       "      <td>REGULAR</td>\n",
       "      <td>USD</td>\n",
       "    </tr>\n",
       "    <tr>\n",
       "      <th>1</th>\n",
       "      <td>MSFT211126P00155000</td>\n",
       "      <td>2021-10-12 15:08:18</td>\n",
       "      <td>155.0</td>\n",
       "      <td>0.07</td>\n",
       "      <td>0.0</td>\n",
       "      <td>0.06</td>\n",
       "      <td>0.00</td>\n",
       "      <td>0.000</td>\n",
       "      <td>NaN</td>\n",
       "      <td>70</td>\n",
       "      <td>2.938</td>\n",
       "      <td>False</td>\n",
       "      <td>REGULAR</td>\n",
       "      <td>USD</td>\n",
       "    </tr>\n",
       "    <tr>\n",
       "      <th>2</th>\n",
       "      <td>MSFT211126P00180000</td>\n",
       "      <td>2021-11-23 20:11:46</td>\n",
       "      <td>180.0</td>\n",
       "      <td>0.02</td>\n",
       "      <td>0.0</td>\n",
       "      <td>0.05</td>\n",
       "      <td>-0.01</td>\n",
       "      <td>-33.333</td>\n",
       "      <td>8.0</td>\n",
       "      <td>8</td>\n",
       "      <td>2.359</td>\n",
       "      <td>False</td>\n",
       "      <td>REGULAR</td>\n",
       "      <td>USD</td>\n",
       "    </tr>\n",
       "    <tr>\n",
       "      <th>3</th>\n",
       "      <td>MSFT211126P00190000</td>\n",
       "      <td>2021-10-22 16:00:56</td>\n",
       "      <td>190.0</td>\n",
       "      <td>0.04</td>\n",
       "      <td>0.0</td>\n",
       "      <td>0.00</td>\n",
       "      <td>0.00</td>\n",
       "      <td>0.000</td>\n",
       "      <td>2.0</td>\n",
       "      <td>0</td>\n",
       "      <td>0.500</td>\n",
       "      <td>False</td>\n",
       "      <td>REGULAR</td>\n",
       "      <td>USD</td>\n",
       "    </tr>\n",
       "    <tr>\n",
       "      <th>4</th>\n",
       "      <td>MSFT211126P00195000</td>\n",
       "      <td>2021-10-26 14:01:32</td>\n",
       "      <td>195.0</td>\n",
       "      <td>0.05</td>\n",
       "      <td>0.0</td>\n",
       "      <td>0.06</td>\n",
       "      <td>0.00</td>\n",
       "      <td>0.000</td>\n",
       "      <td>1.0</td>\n",
       "      <td>5</td>\n",
       "      <td>2.109</td>\n",
       "      <td>False</td>\n",
       "      <td>REGULAR</td>\n",
       "      <td>USD</td>\n",
       "    </tr>\n",
       "  </tbody>\n",
       "</table>\n",
       "</div>"
      ],
      "text/plain": [
       "        contractSymbol       lastTradeDate  strike  lastPrice  bid   ask  \\\n",
       "0  MSFT211126P00150000 2021-11-19 18:59:23   150.0       0.01  0.0  0.01   \n",
       "1  MSFT211126P00155000 2021-10-12 15:08:18   155.0       0.07  0.0  0.06   \n",
       "2  MSFT211126P00180000 2021-11-23 20:11:46   180.0       0.02  0.0  0.05   \n",
       "3  MSFT211126P00190000 2021-10-22 16:00:56   190.0       0.04  0.0  0.00   \n",
       "4  MSFT211126P00195000 2021-10-26 14:01:32   195.0       0.05  0.0  0.06   \n",
       "\n",
       "   change  percentChange  volume  openInterest  impliedVolatility  \\\n",
       "0    0.00          0.000    10.0            20              2.625   \n",
       "1    0.00          0.000     NaN            70              2.938   \n",
       "2   -0.01        -33.333     8.0             8              2.359   \n",
       "3    0.00          0.000     2.0             0              0.500   \n",
       "4    0.00          0.000     1.0             5              2.109   \n",
       "\n",
       "   inTheMoney contractSize currency  \n",
       "0       False      REGULAR      USD  \n",
       "1       False      REGULAR      USD  \n",
       "2       False      REGULAR      USD  \n",
       "3       False      REGULAR      USD  \n",
       "4       False      REGULAR      USD  "
      ]
     },
     "execution_count": 5,
     "metadata": {},
     "output_type": "execute_result"
    }
   ],
   "source": [
    "\n",
    "p.head()"
   ]
  },
  {
   "cell_type": "code",
   "execution_count": 6,
   "metadata": {},
   "outputs": [
    {
     "data": {
      "text/plain": [
       "0    2021-11-19 18:59:23\n",
       "1    2021-10-12 15:08:18\n",
       "2    2021-11-23 20:11:46\n",
       "3    2021-10-22 16:00:56\n",
       "4    2021-10-26 14:01:32\n",
       "5    2021-10-18 16:11:27\n",
       "6    2021-10-08 15:45:41\n",
       "7    2021-11-22 17:52:50\n",
       "8    2021-10-27 13:33:32\n",
       "9    2021-10-21 19:58:53\n",
       "10   2021-11-16 14:37:42\n",
       "11   2021-11-23 15:55:17\n",
       "12   2021-11-22 14:39:43\n",
       "13   2021-11-12 15:08:31\n",
       "14   2021-11-23 15:47:55\n",
       "15   2021-11-17 18:26:58\n",
       "16   2021-11-19 19:16:25\n",
       "17   2021-11-23 16:20:17\n",
       "18   2021-11-22 18:35:17\n",
       "19   2021-11-23 15:46:26\n",
       "20   2021-11-23 18:44:20\n",
       "21   2021-11-23 16:31:58\n",
       "22   2021-11-23 20:55:03\n",
       "23   2021-11-23 20:58:54\n",
       "24   2021-11-23 20:59:36\n",
       "25   2021-11-23 19:20:09\n",
       "26   2021-11-23 20:59:46\n",
       "27   2021-11-23 20:59:46\n",
       "28   2021-11-23 20:46:34\n",
       "29   2021-11-23 20:53:34\n",
       "30   2021-11-23 20:58:29\n",
       "31   2021-11-23 20:59:17\n",
       "32   2021-11-23 20:55:03\n",
       "33   2021-11-23 20:59:22\n",
       "34   2021-11-23 20:59:05\n",
       "35   2021-11-23 20:59:22\n",
       "36   2021-11-23 20:59:02\n",
       "37   2021-11-23 21:00:00\n",
       "38   2021-11-23 20:59:34\n",
       "39   2021-11-23 20:58:28\n",
       "40   2021-11-23 20:50:09\n",
       "41   2021-11-23 20:50:34\n",
       "42   2021-11-23 20:58:28\n",
       "43   2021-11-23 20:54:08\n",
       "44   2021-11-23 19:54:47\n",
       "45   2021-11-23 19:54:16\n",
       "46   2021-11-22 15:56:13\n",
       "47   2021-11-11 18:08:29\n",
       "48   2021-11-23 15:09:12\n",
       "49   2021-11-23 15:18:56\n",
       "50   2021-11-22 16:43:30\n",
       "51   2021-11-11 15:03:09\n",
       "52   2021-11-09 14:40:59\n",
       "53   2021-11-22 15:13:13\n",
       "54   2021-11-15 14:56:31\n",
       "55   2021-11-10 16:03:26\n",
       "56   2021-11-10 19:52:39\n",
       "57   2021-11-23 16:45:15\n",
       "58   2021-11-11 20:28:15\n",
       "59   2021-11-22 16:11:18\n",
       "60   2021-11-10 18:58:24\n",
       "61   2021-11-10 19:21:13\n",
       "62   2021-11-10 19:21:54\n",
       "63   2021-11-11 14:35:09\n",
       "64   2021-11-23 19:50:23\n",
       "65   2021-11-23 15:01:43\n",
       "66   2021-11-23 20:57:39\n",
       "Name: lastTradeDate, dtype: datetime64[ns]"
      ]
     },
     "execution_count": 6,
     "metadata": {},
     "output_type": "execute_result"
    }
   ],
   "source": [
    "lastTradeDate = p.iloc[:, 1]\n",
    "lastPrice = p.iloc[:, 3]\n",
    "lastTradeDate"
   ]
  },
  {
   "cell_type": "code",
   "execution_count": 7,
   "metadata": {},
   "outputs": [],
   "source": [
    "fecha1 = '2020-06-19'\n",
    "fecha2 = '2021-01-15'\n",
    "\n",
    "put06_f1 = p.loc[(lastTradeDate== fecha1) ]\n",
    "put06_f2 = p.loc[(lastTradeDate== fecha2) ]"
   ]
  },
  {
   "cell_type": "code",
   "execution_count": 8,
   "metadata": {},
   "outputs": [
    {
     "data": {
      "text/plain": [
       "<matplotlib.axes._subplots.AxesSubplot at 0x1cb28346780>"
      ]
     },
     "execution_count": 8,
     "metadata": {},
     "output_type": "execute_result"
    },
    {
     "data": {
      "image/png": "[encoded data removed]",
      "text/plain": [
       "<Figure size 576x360 with 1 Axes>"
      ]
     },
     "metadata": {},
     "output_type": "display_data"
    }
   ],
   "source": [
    "lastTradeDate.plot(figsize=(8,5))"
   ]
  },
  {
   "cell_type": "code",
   "execution_count": 9,
   "metadata": {},
   "outputs": [
    {
     "data": {
      "text/plain": [
       "420.0"
      ]
     },
     "execution_count": 9,
     "metadata": {},
     "output_type": "execute_result"
    }
   ],
   "source": [
    "#Precio del activo subyacente\n",
    "msft_price = 339 #dato visto en yahoo \n",
    "p.iloc[57,2] "
   ]
  },
  {
   "cell_type": "code",
   "execution_count": 10,
   "metadata": {},
   "outputs": [
    {
     "data": {
      "text/html": [
       "<div>\n",
       "<style scoped>\n",
       "    .dataframe tbody tr th:only-of-type {\n",
       "        vertical-align: middle;\n",
       "    }\n",
       "\n",
       "    .dataframe tbody tr th {\n",
       "        vertical-align: top;\n",
       "    }\n",
       "\n",
       "    .dataframe thead th {\n",
       "        text-align: right;\n",
       "    }\n",
       "</style>\n",
       "<table border=\"1\" class=\"dataframe\">\n",
       "  <thead>\n",
       "    <tr style=\"text-align: right;\">\n",
       "      <th></th>\n",
       "      <th>Adj Close</th>\n",
       "    </tr>\n",
       "    <tr>\n",
       "      <th>Date</th>\n",
       "      <th></th>\n",
       "    </tr>\n",
       "  </thead>\n",
       "  <tbody>\n",
       "    <tr>\n",
       "      <th>&lt;&lt;&lt;&lt;&lt;&lt;&lt; Updated upstream</th>\n",
       "      <td>NaN</td>\n",
       "    </tr>\n",
       "    <tr>\n",
       "      <th>2017-01-03</th>\n",
       "      <td>58.186</td>\n",
       "    </tr>\n",
       "    <tr>\n",
       "      <th>2017-01-04</th>\n",
       "      <td>57.925</td>\n",
       "    </tr>\n",
       "    <tr>\n",
       "      <th>2017-01-05</th>\n",
       "      <td>57.925</td>\n",
       "    </tr>\n",
       "    <tr>\n",
       "      <th>2017-01-06</th>\n",
       "      <td>58.427</td>\n",
       "    </tr>\n",
       "  </tbody>\n",
       "</table>\n",
       "</div>"
      ],
      "text/plain": [
       "                          Adj Close\n",
       "Date                               \n",
       "<<<<<<< Updated upstream        NaN\n",
       "2017-01-03                   58.186\n",
       "2017-01-04                   57.925\n",
       "2017-01-05                   57.925\n",
       "2017-01-06                   58.427"
      ]
     },
     "execution_count": 10,
     "metadata": {},
     "output_type": "execute_result"
    }
   ],
   "source": [
    "data = pd.read_csv('MSFT.csv')\n",
    "data=data.set_index('Date')\n",
    "closes_msft=pd.DataFrame(data['Adj Close'])\n",
    "closes_msft.head()"
   ]
  },
  {
   "cell_type": "code",
   "execution_count": 11,
   "metadata": {},
   "outputs": [
    {
     "data": {
      "text/plain": [
       "<matplotlib.axes._subplots.AxesSubplot at 0x1cb283c5390>"
      ]
     },
     "execution_count": 11,
     "metadata": {},
     "output_type": "execute_result"
    },
    {
     "data": {
      "image/png": "[encoded data removed]",
      "text/plain": [
       "<Figure size 576x360 with 1 Axes>"
      ]
     },
     "metadata": {},
     "output_type": "display_data"
    }
   ],
   "source": [
    "closes_msft.plot(figsize=(8,5))"
   ]
  },
  {
   "cell_type": "code",
   "execution_count": 12,
   "metadata": {},
   "outputs": [
    {
     "data": {
      "image/png": "[encoded data removed]",
      "text/plain": [
       "<Figure size 432x288 with 1 Axes>"
      ]
     },
     "metadata": {},
     "output_type": "display_data"
    }
   ],
   "source": [
    "def calc_daily_ret(closes):\n",
    "    return np.log(closes/closes.shift(1)).iloc[1:]\n",
    "\n",
    "ret_msft = calc_daily_ret(closes_msft)\n",
    "ret_msft.plot()\n",
    "plt.show()"
   ]
  },
  {
   "cell_type": "code",
   "execution_count": 13,
   "metadata": {},
   "outputs": [
    {
     "data": {
      "text/html": [
       "<div>\n",
       "<style scoped>\n",
       "    .dataframe tbody tr th:only-of-type {\n",
       "        vertical-align: middle;\n",
       "    }\n",
       "\n",
       "    .dataframe tbody tr th {\n",
       "        vertical-align: top;\n",
       "    }\n",
       "\n",
       "    .dataframe thead th {\n",
       "        text-align: right;\n",
       "    }\n",
       "</style>\n",
       "<table border=\"1\" class=\"dataframe\">\n",
       "  <thead>\n",
       "    <tr style=\"text-align: right;\">\n",
       "      <th></th>\n",
       "      <th>57</th>\n",
       "    </tr>\n",
       "  </thead>\n",
       "  <tbody>\n",
       "    <tr>\n",
       "      <th>contractSymbol</th>\n",
       "      <td>MSFT211126P00420000</td>\n",
       "    </tr>\n",
       "    <tr>\n",
       "      <th>lastTradeDate</th>\n",
       "      <td>2021-11-23 16:45:15</td>\n",
       "    </tr>\n",
       "    <tr>\n",
       "      <th>strike</th>\n",
       "      <td>420</td>\n",
       "    </tr>\n",
       "    <tr>\n",
       "      <th>lastPrice</th>\n",
       "      <td>84.8</td>\n",
       "    </tr>\n",
       "    <tr>\n",
       "      <th>bid</th>\n",
       "      <td>80.8</td>\n",
       "    </tr>\n",
       "    <tr>\n",
       "      <th>ask</th>\n",
       "      <td>83.7</td>\n",
       "    </tr>\n",
       "    <tr>\n",
       "      <th>change</th>\n",
       "      <td>0.35</td>\n",
       "    </tr>\n",
       "    <tr>\n",
       "      <th>percentChange</th>\n",
       "      <td>0.414</td>\n",
       "    </tr>\n",
       "    <tr>\n",
       "      <th>volume</th>\n",
       "      <td>1</td>\n",
       "    </tr>\n",
       "    <tr>\n",
       "      <th>openInterest</th>\n",
       "      <td>0</td>\n",
       "    </tr>\n",
       "    <tr>\n",
       "      <th>impliedVolatility</th>\n",
       "      <td>1.55</td>\n",
       "    </tr>\n",
       "    <tr>\n",
       "      <th>inTheMoney</th>\n",
       "      <td>True</td>\n",
       "    </tr>\n",
       "    <tr>\n",
       "      <th>contractSize</th>\n",
       "      <td>REGULAR</td>\n",
       "    </tr>\n",
       "    <tr>\n",
       "      <th>currency</th>\n",
       "      <td>USD</td>\n",
       "    </tr>\n",
       "  </tbody>\n",
       "</table>\n",
       "</div>"
      ],
      "text/plain": [
       "                                    57\n",
       "contractSymbol     MSFT211126P00420000\n",
       "lastTradeDate      2021-11-23 16:45:15\n",
       "strike                             420\n",
       "lastPrice                         84.8\n",
       "bid                               80.8\n",
       "ask                               83.7\n",
       "change                            0.35\n",
       "percentChange                    0.414\n",
       "volume                               1\n",
       "openInterest                         0\n",
       "impliedVolatility                 1.55\n",
       "inTheMoney                        True\n",
       "contractSize                   REGULAR\n",
       "currency                           USD"
      ]
     },
     "execution_count": 13,
     "metadata": {},
     "output_type": "execute_result"
    }
   ],
   "source": [
    "msft_price = 337.68 # strike price\n",
    "indice_opt = p.iloc[57,:]\n",
    "df = pd.DataFrame(indice_opt)\n",
    "df"
   ]
  },
  {
   "cell_type": "code",
   "execution_count": 14,
   "metadata": {},
   "outputs": [
    {
     "data": {
      "image/png": "[encoded data removed]",
      "text/plain": [
       "<Figure size 576x432 with 1 Axes>"
      ]
     },
     "metadata": {},
     "output_type": "display_data"
    }
   ],
   "source": [
    "from datetime import date\n",
    "Ri = closes_msft.pct_change(1).iloc[1:]\n",
    "mu_R = Ri.mean()[0]\n",
    "sigma_R = Ri.std()[0]\n",
    "\n",
    "today = pd.Timestamp(date.today())\n",
    "expiry = 2021-12-26\n",
    "ndays = 33\n",
    "nscen = 1000\n",
    "dates = pd.date_range(start = today, periods = ndays)\n",
    "\n",
    "dt = 1\n",
    "Z = np.random.randn(ndays,nscen)\n",
    "# Simulación normal de los rendimientos\n",
    "Ri_dt = pd.DataFrame(mu_R*dt+Z*sigma_R*np.sqrt(dt),index=dates)\n",
    "Ri_dt.cumprod()\n",
    "\n",
    "# Simulación del precio\n",
    "S_0 = closes_msft.iloc[-1,0]\n",
    "S_T = S_0*(1+Ri_dt).cumprod()\n",
    "S_T.iloc[0,:] = S_0\n",
    "\n",
    "# Se muestran los precios simulados con los precios descargados\n",
    "pd.concat([closes_msft, S_T.iloc[:, :10]]).plot(figsize=(8,6));\n",
    "plt.title('Simulación de precios usando rendimiento simple');"
   ]
  },
  {
   "cell_type": "code",
   "execution_count": 15,
   "metadata": {},
   "outputs": [
    {
     "data": {
      "image/png": "[encoded data removed]",
      "text/plain": [
       "<Figure size 432x288 with 1 Axes>"
      ]
     },
     "metadata": {},
     "output_type": "display_data"
    }
   ],
   "source": [
    "#Rendimiento logaritmico\n",
    "ri = calc_daily_ret(closes_msft)\n",
    "mu_r = ri.mean()[0]\n",
    "sigma_r = ri.std()[0]\n",
    "\n",
    "sim_ret_ri = pd.DataFrame(mu_r*dt+Z*sigma_r*np.sqrt(dt), index=dates)\n",
    "\n",
    "# Simulación del precio\n",
    "S_0 = closes_msft.iloc[-1,0]\n",
    "S_T2 = S_0*np.exp(sim_ret_ri.cumsum())\n",
    "\n",
    "# Se muestran los precios simulados con los precios descargados\n",
    "pd.concat([closes_msft,S_T2.iloc[:, :10]]).plot()\n",
    "plt.title('Simulación de precios usando rendimiento logarítmico')\n",
    "plt.show()"
   ]
  },
  {
   "cell_type": "code",
   "execution_count": 16,
   "metadata": {},
   "outputs": [
    {
     "data": {
      "text/plain": [
       "5.557952840051961"
      ]
     },
     "execution_count": 16,
     "metadata": {},
     "output_type": "execute_result"
    }
   ],
   "source": [
    "e1 = np.abs(S_T-S_T2).mean().mean()\n",
    "e1"
   ]
  },
  {
   "cell_type": "markdown",
   "metadata": {},
   "source": [
    "Con los precios simulados debemos de encontrar el valor de la opción según la función de pago"
   ]
  },
  {
   "cell_type": "code",
   "execution_count": 17,
   "metadata": {},
   "outputs": [
    {
     "data": {
      "text/plain": [
       "(0.001345395246618935, 0.017212492061457512)"
      ]
     },
     "execution_count": 17,
     "metadata": {},
     "output_type": "execute_result"
    }
   ],
   "source": [
    "mu = ret_msft.mean()[0]\n",
    "sigma = ret_msft.std()[0]\n",
    "mu, sigma"
   ]
  },
  {
   "cell_type": "code",
   "execution_count": 18,
   "metadata": {},
   "outputs": [],
   "source": [
    "r = 0.0021/252 # Tasa diaria"
   ]
  },
  {
   "cell_type": "code",
   "execution_count": 19,
   "metadata": {},
   "outputs": [
    {
     "data": {
      "text/html": [
       "<div>\n",
       "<style scoped>\n",
       "    .dataframe tbody tr th:only-of-type {\n",
       "        vertical-align: middle;\n",
       "    }\n",
       "\n",
       "    .dataframe tbody tr th {\n",
       "        vertical-align: top;\n",
       "    }\n",
       "\n",
       "    .dataframe thead th {\n",
       "        text-align: right;\n",
       "    }\n",
       "</style>\n",
       "<table border=\"1\" class=\"dataframe\">\n",
       "  <thead>\n",
       "    <tr style=\"text-align: right;\">\n",
       "      <th></th>\n",
       "      <th>0</th>\n",
       "      <th>1</th>\n",
       "      <th>2</th>\n",
       "      <th>3</th>\n",
       "      <th>4</th>\n",
       "      <th>5</th>\n",
       "      <th>6</th>\n",
       "      <th>7</th>\n",
       "      <th>8</th>\n",
       "      <th>9</th>\n",
       "    </tr>\n",
       "  </thead>\n",
       "  <tbody>\n",
       "    <tr>\n",
       "      <th>2021-04-28</th>\n",
       "      <td>-2.607e-03</td>\n",
       "      <td>-0.017</td>\n",
       "      <td>-0.010</td>\n",
       "      <td>-0.008</td>\n",
       "      <td>0.022</td>\n",
       "      <td>-0.019</td>\n",
       "      <td>-0.013</td>\n",
       "      <td>-0.005</td>\n",
       "      <td>0.019</td>\n",
       "      <td>-1.020e-02</td>\n",
       "    </tr>\n",
       "    <tr>\n",
       "      <th>2021-04-29</th>\n",
       "      <td>-2.129e-02</td>\n",
       "      <td>-0.010</td>\n",
       "      <td>-0.003</td>\n",
       "      <td>0.013</td>\n",
       "      <td>0.023</td>\n",
       "      <td>0.004</td>\n",
       "      <td>-0.033</td>\n",
       "      <td>0.013</td>\n",
       "      <td>0.044</td>\n",
       "      <td>-2.426e-02</td>\n",
       "    </tr>\n",
       "    <tr>\n",
       "      <th>2021-04-30</th>\n",
       "      <td>6.243e-03</td>\n",
       "      <td>-0.020</td>\n",
       "      <td>-0.016</td>\n",
       "      <td>0.010</td>\n",
       "      <td>0.008</td>\n",
       "      <td>0.015</td>\n",
       "      <td>-0.035</td>\n",
       "      <td>0.026</td>\n",
       "      <td>0.057</td>\n",
       "      <td>-1.143e-02</td>\n",
       "    </tr>\n",
       "    <tr>\n",
       "      <th>2021-05-01</th>\n",
       "      <td>-9.190e-04</td>\n",
       "      <td>-0.051</td>\n",
       "      <td>-0.005</td>\n",
       "      <td>-0.013</td>\n",
       "      <td>0.023</td>\n",
       "      <td>0.005</td>\n",
       "      <td>-0.049</td>\n",
       "      <td>0.023</td>\n",
       "      <td>0.067</td>\n",
       "      <td>1.730e-02</td>\n",
       "    </tr>\n",
       "    <tr>\n",
       "      <th>2021-05-02</th>\n",
       "      <td>3.350e-03</td>\n",
       "      <td>-0.059</td>\n",
       "      <td>0.024</td>\n",
       "      <td>-0.024</td>\n",
       "      <td>0.042</td>\n",
       "      <td>0.023</td>\n",
       "      <td>-0.027</td>\n",
       "      <td>-0.021</td>\n",
       "      <td>0.075</td>\n",
       "      <td>1.558e-02</td>\n",
       "    </tr>\n",
       "    <tr>\n",
       "      <th>2021-05-03</th>\n",
       "      <td>-3.448e-03</td>\n",
       "      <td>-0.062</td>\n",
       "      <td>0.067</td>\n",
       "      <td>-0.006</td>\n",
       "      <td>0.037</td>\n",
       "      <td>0.023</td>\n",
       "      <td>-0.023</td>\n",
       "      <td>0.022</td>\n",
       "      <td>0.058</td>\n",
       "      <td>2.485e-02</td>\n",
       "    </tr>\n",
       "    <tr>\n",
       "      <th>2021-05-04</th>\n",
       "      <td>-2.857e-02</td>\n",
       "      <td>-0.076</td>\n",
       "      <td>0.076</td>\n",
       "      <td>-0.020</td>\n",
       "      <td>0.036</td>\n",
       "      <td>0.006</td>\n",
       "      <td>-0.050</td>\n",
       "      <td>0.020</td>\n",
       "      <td>0.060</td>\n",
       "      <td>4.224e-02</td>\n",
       "    </tr>\n",
       "    <tr>\n",
       "      <th>2021-05-05</th>\n",
       "      <td>-4.168e-02</td>\n",
       "      <td>-0.100</td>\n",
       "      <td>0.066</td>\n",
       "      <td>-0.040</td>\n",
       "      <td>0.035</td>\n",
       "      <td>0.004</td>\n",
       "      <td>-0.079</td>\n",
       "      <td>-0.006</td>\n",
       "      <td>0.053</td>\n",
       "      <td>3.938e-02</td>\n",
       "    </tr>\n",
       "    <tr>\n",
       "      <th>2021-05-06</th>\n",
       "      <td>-5.430e-02</td>\n",
       "      <td>-0.114</td>\n",
       "      <td>0.077</td>\n",
       "      <td>-0.016</td>\n",
       "      <td>0.009</td>\n",
       "      <td>-0.024</td>\n",
       "      <td>-0.092</td>\n",
       "      <td>-0.019</td>\n",
       "      <td>0.059</td>\n",
       "      <td>4.724e-02</td>\n",
       "    </tr>\n",
       "    <tr>\n",
       "      <th>2021-05-07</th>\n",
       "      <td>-4.784e-02</td>\n",
       "      <td>-0.073</td>\n",
       "      <td>0.063</td>\n",
       "      <td>-0.045</td>\n",
       "      <td>0.001</td>\n",
       "      <td>-0.014</td>\n",
       "      <td>-0.093</td>\n",
       "      <td>-0.048</td>\n",
       "      <td>0.057</td>\n",
       "      <td>3.302e-02</td>\n",
       "    </tr>\n",
       "    <tr>\n",
       "      <th>2021-05-08</th>\n",
       "      <td>-4.022e-02</td>\n",
       "      <td>-0.080</td>\n",
       "      <td>0.073</td>\n",
       "      <td>-0.082</td>\n",
       "      <td>-0.015</td>\n",
       "      <td>-0.011</td>\n",
       "      <td>-0.086</td>\n",
       "      <td>-0.016</td>\n",
       "      <td>0.060</td>\n",
       "      <td>4.041e-02</td>\n",
       "    </tr>\n",
       "    <tr>\n",
       "      <th>2021-05-09</th>\n",
       "      <td>-7.125e-02</td>\n",
       "      <td>-0.063</td>\n",
       "      <td>0.095</td>\n",
       "      <td>-0.075</td>\n",
       "      <td>-0.027</td>\n",
       "      <td>-0.018</td>\n",
       "      <td>-0.065</td>\n",
       "      <td>-0.036</td>\n",
       "      <td>0.042</td>\n",
       "      <td>5.760e-02</td>\n",
       "    </tr>\n",
       "    <tr>\n",
       "      <th>2021-05-10</th>\n",
       "      <td>-7.403e-02</td>\n",
       "      <td>-0.080</td>\n",
       "      <td>0.095</td>\n",
       "      <td>-0.083</td>\n",
       "      <td>-0.023</td>\n",
       "      <td>-0.015</td>\n",
       "      <td>-0.055</td>\n",
       "      <td>-0.028</td>\n",
       "      <td>0.045</td>\n",
       "      <td>5.472e-02</td>\n",
       "    </tr>\n",
       "    <tr>\n",
       "      <th>2021-05-11</th>\n",
       "      <td>-7.330e-02</td>\n",
       "      <td>-0.085</td>\n",
       "      <td>0.103</td>\n",
       "      <td>-0.100</td>\n",
       "      <td>-0.036</td>\n",
       "      <td>-0.025</td>\n",
       "      <td>-0.028</td>\n",
       "      <td>-0.037</td>\n",
       "      <td>0.065</td>\n",
       "      <td>3.917e-02</td>\n",
       "    </tr>\n",
       "    <tr>\n",
       "      <th>2021-05-12</th>\n",
       "      <td>-6.216e-02</td>\n",
       "      <td>-0.085</td>\n",
       "      <td>0.122</td>\n",
       "      <td>-0.084</td>\n",
       "      <td>-0.047</td>\n",
       "      <td>-0.026</td>\n",
       "      <td>-0.028</td>\n",
       "      <td>-0.015</td>\n",
       "      <td>0.030</td>\n",
       "      <td>4.465e-02</td>\n",
       "    </tr>\n",
       "    <tr>\n",
       "      <th>2021-05-13</th>\n",
       "      <td>-5.217e-02</td>\n",
       "      <td>-0.084</td>\n",
       "      <td>0.114</td>\n",
       "      <td>-0.088</td>\n",
       "      <td>-0.042</td>\n",
       "      <td>-0.017</td>\n",
       "      <td>-0.054</td>\n",
       "      <td>-0.043</td>\n",
       "      <td>0.011</td>\n",
       "      <td>3.049e-02</td>\n",
       "    </tr>\n",
       "    <tr>\n",
       "      <th>2021-05-14</th>\n",
       "      <td>-6.980e-02</td>\n",
       "      <td>-0.073</td>\n",
       "      <td>0.101</td>\n",
       "      <td>-0.078</td>\n",
       "      <td>-0.044</td>\n",
       "      <td>-0.002</td>\n",
       "      <td>-0.068</td>\n",
       "      <td>-0.075</td>\n",
       "      <td>0.026</td>\n",
       "      <td>2.392e-02</td>\n",
       "    </tr>\n",
       "    <tr>\n",
       "      <th>2021-05-15</th>\n",
       "      <td>-7.250e-02</td>\n",
       "      <td>-0.078</td>\n",
       "      <td>0.090</td>\n",
       "      <td>-0.093</td>\n",
       "      <td>-0.045</td>\n",
       "      <td>-0.007</td>\n",
       "      <td>-0.067</td>\n",
       "      <td>-0.095</td>\n",
       "      <td>-0.025</td>\n",
       "      <td>1.453e-02</td>\n",
       "    </tr>\n",
       "    <tr>\n",
       "      <th>2021-05-16</th>\n",
       "      <td>-7.794e-02</td>\n",
       "      <td>-0.079</td>\n",
       "      <td>0.069</td>\n",
       "      <td>-0.101</td>\n",
       "      <td>-0.055</td>\n",
       "      <td>-0.006</td>\n",
       "      <td>-0.049</td>\n",
       "      <td>-0.094</td>\n",
       "      <td>-0.027</td>\n",
       "      <td>2.787e-02</td>\n",
       "    </tr>\n",
       "    <tr>\n",
       "      <th>2021-05-17</th>\n",
       "      <td>-8.466e-02</td>\n",
       "      <td>-0.054</td>\n",
       "      <td>0.047</td>\n",
       "      <td>-0.062</td>\n",
       "      <td>-0.046</td>\n",
       "      <td>-0.034</td>\n",
       "      <td>-0.048</td>\n",
       "      <td>-0.098</td>\n",
       "      <td>-0.030</td>\n",
       "      <td>2.383e-02</td>\n",
       "    </tr>\n",
       "    <tr>\n",
       "      <th>2021-05-18</th>\n",
       "      <td>-9.368e-02</td>\n",
       "      <td>-0.051</td>\n",
       "      <td>0.034</td>\n",
       "      <td>-0.091</td>\n",
       "      <td>-0.073</td>\n",
       "      <td>-0.026</td>\n",
       "      <td>-0.030</td>\n",
       "      <td>-0.098</td>\n",
       "      <td>-0.028</td>\n",
       "      <td>4.694e-02</td>\n",
       "    </tr>\n",
       "    <tr>\n",
       "      <th>2021-05-19</th>\n",
       "      <td>-9.847e-02</td>\n",
       "      <td>-0.058</td>\n",
       "      <td>0.019</td>\n",
       "      <td>-0.090</td>\n",
       "      <td>-0.072</td>\n",
       "      <td>-0.024</td>\n",
       "      <td>-0.040</td>\n",
       "      <td>-0.099</td>\n",
       "      <td>-0.034</td>\n",
       "      <td>4.056e-02</td>\n",
       "    </tr>\n",
       "    <tr>\n",
       "      <th>2021-05-20</th>\n",
       "      <td>-9.249e-02</td>\n",
       "      <td>-0.080</td>\n",
       "      <td>0.016</td>\n",
       "      <td>-0.101</td>\n",
       "      <td>-0.029</td>\n",
       "      <td>-0.008</td>\n",
       "      <td>-0.070</td>\n",
       "      <td>-0.085</td>\n",
       "      <td>-0.044</td>\n",
       "      <td>2.027e-02</td>\n",
       "    </tr>\n",
       "    <tr>\n",
       "      <th>2021-05-21</th>\n",
       "      <td>-9.680e-02</td>\n",
       "      <td>-0.108</td>\n",
       "      <td>0.028</td>\n",
       "      <td>-0.119</td>\n",
       "      <td>-0.027</td>\n",
       "      <td>-0.008</td>\n",
       "      <td>-0.078</td>\n",
       "      <td>-0.045</td>\n",
       "      <td>-0.059</td>\n",
       "      <td>2.077e-02</td>\n",
       "    </tr>\n",
       "    <tr>\n",
       "      <th>2021-05-22</th>\n",
       "      <td>-1.077e-01</td>\n",
       "      <td>-0.083</td>\n",
       "      <td>0.034</td>\n",
       "      <td>-0.109</td>\n",
       "      <td>-0.029</td>\n",
       "      <td>-0.006</td>\n",
       "      <td>-0.065</td>\n",
       "      <td>-0.032</td>\n",
       "      <td>-0.034</td>\n",
       "      <td>1.237e-02</td>\n",
       "    </tr>\n",
       "    <tr>\n",
       "      <th>2021-05-23</th>\n",
       "      <td>-9.129e-02</td>\n",
       "      <td>-0.041</td>\n",
       "      <td>0.032</td>\n",
       "      <td>-0.088</td>\n",
       "      <td>-0.051</td>\n",
       "      <td>-0.009</td>\n",
       "      <td>-0.071</td>\n",
       "      <td>-0.027</td>\n",
       "      <td>-0.017</td>\n",
       "      <td>-8.663e-03</td>\n",
       "    </tr>\n",
       "    <tr>\n",
       "      <th>2021-05-24</th>\n",
       "      <td>-9.151e-02</td>\n",
       "      <td>-0.077</td>\n",
       "      <td>0.025</td>\n",
       "      <td>-0.101</td>\n",
       "      <td>-0.068</td>\n",
       "      <td>-0.024</td>\n",
       "      <td>-0.059</td>\n",
       "      <td>-0.054</td>\n",
       "      <td>-0.033</td>\n",
       "      <td>-1.068e-03</td>\n",
       "    </tr>\n",
       "    <tr>\n",
       "      <th>2021-05-25</th>\n",
       "      <td>-7.821e-02</td>\n",
       "      <td>-0.082</td>\n",
       "      <td>0.036</td>\n",
       "      <td>-0.102</td>\n",
       "      <td>-0.081</td>\n",
       "      <td>-0.046</td>\n",
       "      <td>-0.029</td>\n",
       "      <td>-0.042</td>\n",
       "      <td>-0.041</td>\n",
       "      <td>-8.236e-03</td>\n",
       "    </tr>\n",
       "    <tr>\n",
       "      <th>2021-05-26</th>\n",
       "      <td>-8.418e-02</td>\n",
       "      <td>-0.085</td>\n",
       "      <td>0.018</td>\n",
       "      <td>-0.110</td>\n",
       "      <td>-0.074</td>\n",
       "      <td>-0.033</td>\n",
       "      <td>-0.049</td>\n",
       "      <td>-0.056</td>\n",
       "      <td>-0.032</td>\n",
       "      <td>1.269e-03</td>\n",
       "    </tr>\n",
       "    <tr>\n",
       "      <th>2021-05-27</th>\n",
       "      <td>-7.079e-02</td>\n",
       "      <td>-0.103</td>\n",
       "      <td>0.015</td>\n",
       "      <td>-0.129</td>\n",
       "      <td>-0.090</td>\n",
       "      <td>-0.035</td>\n",
       "      <td>-0.066</td>\n",
       "      <td>-0.069</td>\n",
       "      <td>-0.058</td>\n",
       "      <td>2.649e-02</td>\n",
       "    </tr>\n",
       "    <tr>\n",
       "      <th>2021-05-28</th>\n",
       "      <td>-5.267e-02</td>\n",
       "      <td>-0.115</td>\n",
       "      <td>-0.009</td>\n",
       "      <td>-0.132</td>\n",
       "      <td>-0.133</td>\n",
       "      <td>-0.036</td>\n",
       "      <td>-0.088</td>\n",
       "      <td>-0.052</td>\n",
       "      <td>-0.061</td>\n",
       "      <td>2.472e-02</td>\n",
       "    </tr>\n",
       "    <tr>\n",
       "      <th>2021-05-29</th>\n",
       "      <td>-6.199e-02</td>\n",
       "      <td>-0.088</td>\n",
       "      <td>-0.021</td>\n",
       "      <td>-0.126</td>\n",
       "      <td>-0.138</td>\n",
       "      <td>-0.058</td>\n",
       "      <td>-0.070</td>\n",
       "      <td>-0.076</td>\n",
       "      <td>-0.104</td>\n",
       "      <td>2.521e-02</td>\n",
       "    </tr>\n",
       "    <tr>\n",
       "      <th>2021-05-30</th>\n",
       "      <td>-4.806e-02</td>\n",
       "      <td>-0.057</td>\n",
       "      <td>-0.027</td>\n",
       "      <td>-0.120</td>\n",
       "      <td>-0.154</td>\n",
       "      <td>-0.082</td>\n",
       "      <td>-0.074</td>\n",
       "      <td>-0.087</td>\n",
       "      <td>-0.090</td>\n",
       "      <td>3.956e-04</td>\n",
       "    </tr>\n",
       "  </tbody>\n",
       "</table>\n",
       "</div>"
      ],
      "text/plain": [
       "                    0      1      2      3      4      5      6      7  \\\n",
       "2021-04-28 -2.607e-03 -0.017 -0.010 -0.008  0.022 -0.019 -0.013 -0.005   \n",
       "2021-04-29 -2.129e-02 -0.010 -0.003  0.013  0.023  0.004 -0.033  0.013   \n",
       "2021-04-30  6.243e-03 -0.020 -0.016  0.010  0.008  0.015 -0.035  0.026   \n",
       "2021-05-01 -9.190e-04 -0.051 -0.005 -0.013  0.023  0.005 -0.049  0.023   \n",
       "2021-05-02  3.350e-03 -0.059  0.024 -0.024  0.042  0.023 -0.027 -0.021   \n",
       "2021-05-03 -3.448e-03 -0.062  0.067 -0.006  0.037  0.023 -0.023  0.022   \n",
       "2021-05-04 -2.857e-02 -0.076  0.076 -0.020  0.036  0.006 -0.050  0.020   \n",
       "2021-05-05 -4.168e-02 -0.100  0.066 -0.040  0.035  0.004 -0.079 -0.006   \n",
       "2021-05-06 -5.430e-02 -0.114  0.077 -0.016  0.009 -0.024 -0.092 -0.019   \n",
       "2021-05-07 -4.784e-02 -0.073  0.063 -0.045  0.001 -0.014 -0.093 -0.048   \n",
       "2021-05-08 -4.022e-02 -0.080  0.073 -0.082 -0.015 -0.011 -0.086 -0.016   \n",
       "2021-05-09 -7.125e-02 -0.063  0.095 -0.075 -0.027 -0.018 -0.065 -0.036   \n",
       "2021-05-10 -7.403e-02 -0.080  0.095 -0.083 -0.023 -0.015 -0.055 -0.028   \n",
       "2021-05-11 -7.330e-02 -0.085  0.103 -0.100 -0.036 -0.025 -0.028 -0.037   \n",
       "2021-05-12 -6.216e-02 -0.085  0.122 -0.084 -0.047 -0.026 -0.028 -0.015   \n",
       "2021-05-13 -5.217e-02 -0.084  0.114 -0.088 -0.042 -0.017 -0.054 -0.043   \n",
       "2021-05-14 -6.980e-02 -0.073  0.101 -0.078 -0.044 -0.002 -0.068 -0.075   \n",
       "2021-05-15 -7.250e-02 -0.078  0.090 -0.093 -0.045 -0.007 -0.067 -0.095   \n",
       "2021-05-16 -7.794e-02 -0.079  0.069 -0.101 -0.055 -0.006 -0.049 -0.094   \n",
       "2021-05-17 -8.466e-02 -0.054  0.047 -0.062 -0.046 -0.034 -0.048 -0.098   \n",
       "2021-05-18 -9.368e-02 -0.051  0.034 -0.091 -0.073 -0.026 -0.030 -0.098   \n",
       "2021-05-19 -9.847e-02 -0.058  0.019 -0.090 -0.072 -0.024 -0.040 -0.099   \n",
       "2021-05-20 -9.249e-02 -0.080  0.016 -0.101 -0.029 -0.008 -0.070 -0.085   \n",
       "2021-05-21 -9.680e-02 -0.108  0.028 -0.119 -0.027 -0.008 -0.078 -0.045   \n",
       "2021-05-22 -1.077e-01 -0.083  0.034 -0.109 -0.029 -0.006 -0.065 -0.032   \n",
       "2021-05-23 -9.129e-02 -0.041  0.032 -0.088 -0.051 -0.009 -0.071 -0.027   \n",
       "2021-05-24 -9.151e-02 -0.077  0.025 -0.101 -0.068 -0.024 -0.059 -0.054   \n",
       "2021-05-25 -7.821e-02 -0.082  0.036 -0.102 -0.081 -0.046 -0.029 -0.042   \n",
       "2021-05-26 -8.418e-02 -0.085  0.018 -0.110 -0.074 -0.033 -0.049 -0.056   \n",
       "2021-05-27 -7.079e-02 -0.103  0.015 -0.129 -0.090 -0.035 -0.066 -0.069   \n",
       "2021-05-28 -5.267e-02 -0.115 -0.009 -0.132 -0.133 -0.036 -0.088 -0.052   \n",
       "2021-05-29 -6.199e-02 -0.088 -0.021 -0.126 -0.138 -0.058 -0.070 -0.076   \n",
       "2021-05-30 -4.806e-02 -0.057 -0.027 -0.120 -0.154 -0.082 -0.074 -0.087   \n",
       "\n",
       "                8          9  \n",
       "2021-04-28  0.019 -1.020e-02  \n",
       "2021-04-29  0.044 -2.426e-02  \n",
       "2021-04-30  0.057 -1.143e-02  \n",
       "2021-05-01  0.067  1.730e-02  \n",
       "2021-05-02  0.075  1.558e-02  \n",
       "2021-05-03  0.058  2.485e-02  \n",
       "2021-05-04  0.060  4.224e-02  \n",
       "2021-05-05  0.053  3.938e-02  \n",
       "2021-05-06  0.059  4.724e-02  \n",
       "2021-05-07  0.057  3.302e-02  \n",
       "2021-05-08  0.060  4.041e-02  \n",
       "2021-05-09  0.042  5.760e-02  \n",
       "2021-05-10  0.045  5.472e-02  \n",
       "2021-05-11  0.065  3.917e-02  \n",
       "2021-05-12  0.030  4.465e-02  \n",
       "2021-05-13  0.011  3.049e-02  \n",
       "2021-05-14  0.026  2.392e-02  \n",
       "2021-05-15 -0.025  1.453e-02  \n",
       "2021-05-16 -0.027  2.787e-02  \n",
       "2021-05-17 -0.030  2.383e-02  \n",
       "2021-05-18 -0.028  4.694e-02  \n",
       "2021-05-19 -0.034  4.056e-02  \n",
       "2021-05-20 -0.044  2.027e-02  \n",
       "2021-05-21 -0.059  2.077e-02  \n",
       "2021-05-22 -0.034  1.237e-02  \n",
       "2021-05-23 -0.017 -8.663e-03  \n",
       "2021-05-24 -0.033 -1.068e-03  \n",
       "2021-05-25 -0.041 -8.236e-03  \n",
       "2021-05-26 -0.032  1.269e-03  \n",
       "2021-05-27 -0.058  2.649e-02  \n",
       "2021-05-28 -0.061  2.472e-02  \n",
       "2021-05-29 -0.104  2.521e-02  \n",
       "2021-05-30 -0.090  3.956e-04  "
      ]
     },
     "execution_count": 19,
     "metadata": {},
     "output_type": "execute_result"
    }
   ],
   "source": [
    "#Simulando 10 escenarios hata fecha de expiry\n",
    "from datetime import date\n",
    "\n",
    "today = pd.Timestamp(date.today())\n",
    "expiry =pd.to_datetime('2021-12-26')\n",
    "\n",
    "nscen = 10\n",
    "dates = pd.date_range(start='2021-04-28', periods = ndays)\n",
    "#len(dates)\n",
    "\n",
    "#Rendimientos simulados\n",
    "sim_ret = pd.DataFrame(sigma*np.random.randn(ndays,nscen)+r, index=dates)\n",
    "sim_ret.cumsum()"
   ]
  },
  {
   "cell_type": "code",
   "execution_count": 20,
   "metadata": {},
   "outputs": [
    {
     "data": {
      "text/html": [
       "<div>\n",
       "<style scoped>\n",
       "    .dataframe tbody tr th:only-of-type {\n",
       "        vertical-align: middle;\n",
       "    }\n",
       "\n",
       "    .dataframe tbody tr th {\n",
       "        vertical-align: top;\n",
       "    }\n",
       "\n",
       "    .dataframe thead th {\n",
       "        text-align: right;\n",
       "    }\n",
       "</style>\n",
       "<table border=\"1\" class=\"dataframe\">\n",
       "  <thead>\n",
       "    <tr style=\"text-align: right;\">\n",
       "      <th></th>\n",
       "      <th>0</th>\n",
       "      <th>1</th>\n",
       "      <th>2</th>\n",
       "      <th>3</th>\n",
       "      <th>4</th>\n",
       "      <th>5</th>\n",
       "      <th>6</th>\n",
       "      <th>7</th>\n",
       "      <th>8</th>\n",
       "      <th>9</th>\n",
       "    </tr>\n",
       "  </thead>\n",
       "  <tbody>\n",
       "    <tr>\n",
       "      <th>2021-04-28</th>\n",
       "      <td>339.830</td>\n",
       "      <td>339.830</td>\n",
       "      <td>339.830</td>\n",
       "      <td>339.830</td>\n",
       "      <td>339.830</td>\n",
       "      <td>339.830</td>\n",
       "      <td>339.830</td>\n",
       "      <td>339.830</td>\n",
       "      <td>339.830</td>\n",
       "      <td>339.830</td>\n",
       "    </tr>\n",
       "    <tr>\n",
       "      <th>2021-04-29</th>\n",
       "      <td>332.673</td>\n",
       "      <td>336.452</td>\n",
       "      <td>338.877</td>\n",
       "      <td>344.178</td>\n",
       "      <td>347.793</td>\n",
       "      <td>341.200</td>\n",
       "      <td>328.711</td>\n",
       "      <td>344.284</td>\n",
       "      <td>355.228</td>\n",
       "      <td>331.684</td>\n",
       "    </tr>\n",
       "    <tr>\n",
       "      <th>2021-04-30</th>\n",
       "      <td>341.958</td>\n",
       "      <td>333.251</td>\n",
       "      <td>334.525</td>\n",
       "      <td>343.281</td>\n",
       "      <td>342.623</td>\n",
       "      <td>344.966</td>\n",
       "      <td>328.181</td>\n",
       "      <td>348.850</td>\n",
       "      <td>359.622</td>\n",
       "      <td>335.966</td>\n",
       "    </tr>\n",
       "    <tr>\n",
       "      <th>2021-05-01</th>\n",
       "      <td>339.518</td>\n",
       "      <td>323.064</td>\n",
       "      <td>338.210</td>\n",
       "      <td>335.289</td>\n",
       "      <td>347.815</td>\n",
       "      <td>341.376</td>\n",
       "      <td>323.634</td>\n",
       "      <td>347.608</td>\n",
       "      <td>363.540</td>\n",
       "      <td>345.761</td>\n",
       "    </tr>\n",
       "    <tr>\n",
       "      <th>2021-05-02</th>\n",
       "      <td>340.970</td>\n",
       "      <td>320.359</td>\n",
       "      <td>348.255</td>\n",
       "      <td>331.862</td>\n",
       "      <td>354.582</td>\n",
       "      <td>347.583</td>\n",
       "      <td>330.631</td>\n",
       "      <td>332.814</td>\n",
       "      <td>366.381</td>\n",
       "      <td>345.166</td>\n",
       "    </tr>\n",
       "  </tbody>\n",
       "</table>\n",
       "</div>"
      ],
      "text/plain": [
       "                  0        1        2        3        4        5        6  \\\n",
       "2021-04-28  339.830  339.830  339.830  339.830  339.830  339.830  339.830   \n",
       "2021-04-29  332.673  336.452  338.877  344.178  347.793  341.200  328.711   \n",
       "2021-04-30  341.958  333.251  334.525  343.281  342.623  344.966  328.181   \n",
       "2021-05-01  339.518  323.064  338.210  335.289  347.815  341.376  323.634   \n",
       "2021-05-02  340.970  320.359  348.255  331.862  354.582  347.583  330.631   \n",
       "\n",
       "                  7        8        9  \n",
       "2021-04-28  339.830  339.830  339.830  \n",
       "2021-04-29  344.284  355.228  331.684  \n",
       "2021-04-30  348.850  359.622  335.966  \n",
       "2021-05-01  347.608  363.540  345.761  \n",
       "2021-05-02  332.814  366.381  345.166  "
      ]
     },
     "execution_count": 20,
     "metadata": {},
     "output_type": "execute_result"
    }
   ],
   "source": [
    "S0 = closes_msft.iloc[-1,0]  # Condición inicial del precio a simular\n",
    "sim_closes = S0*np.exp(sim_ret.cumsum())\n",
    "sim_closes.iloc[0, :] = S0\n",
    "sim_closes.head()"
   ]
  },
  {
   "cell_type": "code",
   "execution_count": 21,
   "metadata": {},
   "outputs": [
    {
     "data": {
      "image/png": "[encoded data removed]",
      "text/plain": [
       "<Figure size 576x432 with 1 Axes>"
      ]
     },
     "metadata": {},
     "output_type": "display_data"
    }
   ],
   "source": [
    "sim_closes.plot(figsize=(8,6));"
   ]
  },
  {
   "cell_type": "code",
   "execution_count": 22,
   "metadata": {},
   "outputs": [
    {
     "data": {
      "image/png": "[encoded data removed]",
      "text/plain": [
       "<Figure size 432x288 with 1 Axes>"
      ]
     },
     "metadata": {},
     "output_type": "display_data"
    }
   ],
   "source": [
    "pd.concat([closes_msft,sim_closes]).plot()\n",
    "plt.show()"
   ]
  },
  {
   "cell_type": "code",
   "execution_count": null,
   "metadata": {},
   "outputs": [],
   "source": [
    "from datetime import date\n",
    "\n",
    "Hoy = date.today()\n",
    "K =  338  # strike price\n",
    "nscen = 100000\n",
    "dates = pd.date_range(start= Hoy, periods = ndays)\n",
    "ndays = len(dates)\n",
    "S0 = closes_msft.iloc[-1,0]  # Condición inicial del precio a simular\n",
    "\n",
    "sim_ret = pd.DataFrame(sigma*np.random.randn(ndays,nscen)+r,index=dates)\n",
    "sim_closes = S0*np.exp(sim_ret.cumsum())\n",
    "\n",
    "sim_closes.head()"
   ]
  },
  {
   "cell_type": "code",
   "execution_count": null,
   "metadata": {},
   "outputs": [],
   "source": [
    "sim_closes.iloc[0, :] = closes_msft.iloc[-1]\n",
    "strike = 338\n",
    "put = pd.DataFrame({'Prima':np.exp(-r*ndays) \\\n",
    "              *np.fmax(strike-sim_closes, 0).mean(axis=1)}, index=dates)\n",
    "put.plot();"
   ]
  },
  {
   "cell_type": "code",
   "execution_count": null,
   "metadata": {},
   "outputs": [],
   "source": [
    "put.iloc[-1]\n",
    "confianza = 0.99\n",
    "sigma_est = sim_closes.iloc[-1].sem()\n",
    "mean_est = put.iloc[-1].Prima\n",
    "i1 = st.t.interval(confianza,nscen-1, loc=mean_est, scale=sigma_est)\n",
    "i2 = st.norm.interval(confianza, loc=mean_est, scale=sigma_est)\n",
    "print(i1)\n",
    "print(i2)"
   ]
  },
  {
   "cell_type": "code",
   "execution_count": null,
   "metadata": {},
   "outputs": [],
   "source": [
    "put.iloc[-1]"
   ]
  },
  {
   "cell_type": "markdown",
   "metadata": {},
   "source": [
    "El precio de la opción es de 12.094"
   ]
  },
  {
   "cell_type": "code",
   "execution_count": null,
   "metadata": {},
   "outputs": [],
   "source": []
  },
  {
   "cell_type": "markdown",
   "metadata": {},
   "source": [
    "#### Código de solución `ESTUDIANTE 2: FRIDA HERNÁNDEZ`"
   ]
  },
  {
   "cell_type": "markdown",
   "metadata": {},
   "source": [
    "## Punto 1."
   ]
  },
  {
   "cell_type": "markdown",
   "metadata": {},
   "source": [
    "#### Simulación de precios usando rendimiento simple y logarítmico "
   ]
  },
  {
   "cell_type": "code",
   "execution_count": null,
   "metadata": {},
   "outputs": [],
   "source": [
    "#importar los paquetes que se van a usar\n",
    "import pandas as pd\n",
    "import pandas_datareader.data as web\n",
    "import numpy as np\n",
    "import datetime\n",
    "import matplotlib.pyplot as plt\n",
    "import scipy.stats as st\n",
    "import seaborn as sns\n",
    "%matplotlib inline\n",
    "#algunas opciones para Pandas\n",
    "pd.set_option('display.notebook_repr_html', True)\n",
    "pd.set_option('display.max_columns', 6)\n",
    "pd.set_option('display.max_rows', 10)\n",
    "pd.set_option('display.width', 78)\n",
    "pd.set_option('precision', 3)"
   ]
  },
  {
   "attachments": {
    "image.png": {
     "image/png": "[encoded data removed]"
    }
   },
   "cell_type": "markdown",
   "metadata": {},
   "source": [
    "![image.png](attachment:image.png)"
   ]
  },
  {
   "cell_type": "markdown",
   "metadata": {},
   "source": [
    "Me quiero acercar a un valor de 3.78"
   ]
  },
  {
   "cell_type": "code",
   "execution_count": null,
   "metadata": {},
   "outputs": [],
   "source": [
    "data = pd.read_csv('MSFT.csv')\n",
    "data=data.set_index('Date')\n",
    "closes=pd.DataFrame(data.iloc[:,4])\n",
    "closes"
   ]
  },
  {
   "cell_type": "markdown",
   "metadata": {},
   "source": [
    "* Comenzaremos por suponer que los rendimientos son un p.e. estacionario que distribuyen $\\mathcal{N}(\\mu,\\sigma)$."
   ]
  },
  {
   "cell_type": "code",
   "execution_count": null,
   "metadata": {},
   "outputs": [],
   "source": [
    "# Obtenemos el rendimiento simple\n",
    "Ri = closes.pct_change(1).iloc[1:]\n",
    "# Obtenemos su media y desviación estándar de los rendimientos\n",
    "mu_R = Ri.mean()[0]\n",
    "sigma_R = Ri.std()[0]\n",
    "Ri.head()"
   ]
  },
  {
   "cell_type": "code",
   "execution_count": null,
   "metadata": {},
   "outputs": [],
   "source": [
    "from datetime import date\n",
    "\n",
    "today = pd.Timestamp(date.today())\n",
    "expiry = '2021-11-26'\n",
    "\n",
    "nscen = 1000\n",
    "dates = pd.date_range(start=today, end=expiry, freq='B')\n",
    "ndays = len(dates)"
   ]
  },
  {
   "cell_type": "markdown",
   "metadata": {},
   "source": [
    "#### Mostrar como simular precios usando los rendimientos"
   ]
  },
  {
   "cell_type": "code",
   "execution_count": null,
   "metadata": {},
   "outputs": [],
   "source": [
    "dt = 1; # Rendimiento diario \n",
    "Z = np.random.randn(ndays,nscen)  # Z ~ N(0,1)\n",
    "# Simulación normal de los rendimientos\n",
    "Ri_dt = pd.DataFrame(mu_R*dt+Z*sigma_R*np.sqrt(dt),index=dates)\n",
    "Ri_dt.cumprod()"
   ]
  },
  {
   "cell_type": "code",
   "execution_count": null,
   "metadata": {},
   "outputs": [],
   "source": [
    "# Simulación del precio\n",
    "S_0 = closes.iloc[-1,0]\n",
    "S_T = S_0*(1+Ri_dt).cumprod()\n",
    "\n",
    "# Se muestran los precios simulados con los precios descargados\n",
    "# pd.concat([closes_aapl,S_T]).plot(figsize=(8,6));\n",
    "# plt.title('Simulación de precios usando rendimiento simple');"
   ]
  },
  {
   "cell_type": "markdown",
   "metadata": {},
   "source": [
    "#### Rendimiento Logarítmico"
   ]
  },
  {
   "cell_type": "code",
   "execution_count": null,
   "metadata": {},
   "outputs": [],
   "source": [
    "def calc_daily_ret(closes):\n",
    "    return np.log(closes/closes.shift(1)).iloc[1:]\n",
    "\n",
    "ri = calc_daily_ret(closes)\n",
    "# Usando la media y desviación estándar de los rendimientos logarítmicos\n",
    "mu_r = ri.mean()[0]\n",
    "sigma_r = ri.std()[0]\n",
    "\n",
    "# # Usando la equivalencia teórica\n",
    "# mu_r2 = mu_R - (sigma_R**2)/2\n",
    "\n",
    "sim_ret_ri = pd.DataFrame(mu_r*dt+Z*sigma_r*np.sqrt(dt), index=dates)\n",
    "\n",
    "# Simulación del precio\n",
    "S_0 = closes.iloc[-1,0]\n",
    "S_T2 = S_0*np.exp(sim_ret_ri.cumsum())\n",
    "\n",
    "# Se muestran los precios simulados con los precios descargados\n",
    "# pd.concat([closes_aapl,S_T2]).plot(figsize=(8,6));\n",
    "# plt.title('Simulación de precios usando rendimiento logarítmico');\n",
    "\n",
    "# from sklearn.metrics import mean_absolute_error\n",
    "e1 = np.abs(S_T-S_T2).mean().mean()\n",
    "e1"
   ]
  },
  {
   "cell_type": "code",
   "execution_count": null,
   "metadata": {},
   "outputs": [],
   "source": [
    "S_T2.iloc[0, :] = closes.iloc[-1]\n",
    "S_T2"
   ]
  },
  {
   "cell_type": "code",
   "execution_count": null,
   "metadata": {},
   "outputs": [],
   "source": [
    "print('Las std usando rendimientos logarítmicos y simples son similares')\n",
    "sigma_R,sigma_r"
   ]
  },
  {
   "cell_type": "markdown",
   "metadata": {},
   "source": [
    "Con los precios simulados debemos de encontrar el valor de la opción según la función de pago correspondiente. Para este caso es:\n",
    "$$\n",
    "max(K - S_T,0)\n",
    "$$"
   ]
  },
  {
   "cell_type": "code",
   "execution_count": null,
   "metadata": {},
   "outputs": [],
   "source": [
    "strike = 340\n",
    "put = pd.DataFrame({'Prima':np.exp(-mu_r*ndays) \\\n",
    "              *np.fmax(strike-S_T2, 0).mean(axis=1)}, index=dates)\n",
    "put.plot();\n",
    "put.iloc[-1]"
   ]
  },
  {
   "cell_type": "markdown",
   "metadata": {},
   "source": [
    "#### 2. Valuación usando simulación: modelo normal para los rendimientos"
   ]
  },
  {
   "cell_type": "markdown",
   "metadata": {},
   "source": [
    "- Hallar media y desviación estándar muestral de los rendimientos logarítmicos"
   ]
  },
  {
   "cell_type": "code",
   "execution_count": null,
   "metadata": {},
   "outputs": [],
   "source": [
    "ret = calc_daily_ret(closes)\n",
    "ret.plot(figsize=(8,6));"
   ]
  },
  {
   "cell_type": "code",
   "execution_count": null,
   "metadata": {},
   "outputs": [],
   "source": [
    "mu = ret.mean()[0]\n",
    "sigma = ret.std()[0]\n",
    "mu, sigma"
   ]
  },
  {
   "cell_type": "markdown",
   "metadata": {},
   "source": [
    "No se toma la media sino la tasa libre de riesgo\n",
    "> Referencia: https://www.treasury.gov/resource-center/data-chart-center/interest-rates/Pages/TextView.aspx?data=yield"
   ]
  },
  {
   "cell_type": "code",
   "execution_count": null,
   "metadata": {},
   "outputs": [],
   "source": [
    "# Tasa de bonos de 1 yr de fecha 11/23/21\n",
    "r = 0.0021/360 # Tasa diaria"
   ]
  },
  {
   "cell_type": "markdown",
   "metadata": {},
   "source": [
    "- Simularemos el tiempo de contrato desde `HOY` hasta la fecha de `Expiry`, 10 escenarios:\n",
    "    \n",
    "    - Generar fechas"
   ]
  },
  {
   "cell_type": "code",
   "execution_count": null,
   "metadata": {},
   "outputs": [],
   "source": [
    "from datetime import date\n",
    "\n",
    "today = pd.Timestamp(date.today())\n",
    "expiry =expiry\n",
    "\n",
    "dates = pd.date_range(start=today, end = expiry, freq='B')\n",
    "ndays = len(dates)"
   ]
  },
  {
   "cell_type": "code",
   "execution_count": null,
   "metadata": {},
   "outputs": [],
   "source": [
    "sim_ret = pd.DataFrame(sigma*np.random.randn(ndays,nscen)+r, index=dates)\n",
    "sim_ret.cumsum()\n",
    "# Las columnas son los escenarios y las filas son las días de contrato"
   ]
  },
  {
   "cell_type": "markdown",
   "metadata": {},
   "source": [
    "- Con los rendimientos simulados, calcular los escenarios de precios respectivos:"
   ]
  },
  {
   "cell_type": "code",
   "execution_count": null,
   "metadata": {},
   "outputs": [],
   "source": [
    "S0 = closes.iloc[-1,0]  # Condición inicial del precio a simular\n",
    "sim_closes = S0*np.exp(sim_ret.cumsum())\n",
    "sim_closes"
   ]
  },
  {
   "cell_type": "markdown",
   "metadata": {},
   "source": [
    "- Graficar:"
   ]
  },
  {
   "cell_type": "code",
   "execution_count": null,
   "metadata": {},
   "outputs": [],
   "source": [
    "sim_closes.plot(figsize=(8,6));"
   ]
  },
  {
   "cell_type": "code",
   "execution_count": null,
   "metadata": {},
   "outputs": [],
   "source": [
    "# Se muestran los precios simulados con los precios descargados\n",
    "pd.concat([closes,sim_closes]).plot(figsize=(8,6));"
   ]
  },
  {
   "cell_type": "code",
   "execution_count": null,
   "metadata": {},
   "outputs": [],
   "source": [
    "from datetime import date\n",
    "Hoy = date.today()\n",
    "K = 340 # strike price\n",
    "nscen = 1000\n",
    "dates = pd.date_range(start= Hoy, periods = ndays)\n",
    "ndays = len(dates)\n",
    "S0 = closes.iloc[-1,0]  # Condición inicial del precio a simular\n",
    "\n",
    "sim_ret = pd.DataFrame(sigma*np.random.randn(ndays,nscen)+r,index=dates)\n",
    "sim_closes = S0*np.exp(sim_ret.cumsum())\n",
    "#strike = pd.DataFrame({'Strike':K*np.ones(ndays)}, index=dates)\n",
    "#simul = pd.concat([closes_aapl.T,strike.T,sim_closes.T]).T\n",
    "#simul.plot(figsize=(8,6),legend=False);\n",
    "sim_closes"
   ]
  },
  {
   "cell_type": "code",
   "execution_count": null,
   "metadata": {},
   "outputs": [],
   "source": [
    "sim_closes.iloc[0, :] = closes.iloc[-1]\n",
    "sim_closes"
   ]
  },
  {
   "cell_type": "code",
   "execution_count": null,
   "metadata": {},
   "outputs": [],
   "source": [
    "strike = 340\n",
    "put = pd.DataFrame({'Prima':np.exp(-r*ndays) \\\n",
    "              *np.fmax(strike-sim_closes, 0).mean(axis=1)}, index=dates)\n",
    "put.plot();"
   ]
  },
  {
   "cell_type": "markdown",
   "metadata": {},
   "source": [
    "La valuación de la opción es:"
   ]
  },
  {
   "cell_type": "code",
   "execution_count": null,
   "metadata": {},
   "outputs": [],
   "source": [
    "put.iloc[-1]"
   ]
  },
  {
   "cell_type": "markdown",
   "metadata": {},
   "source": [
    "Intervalo de confianza del 99%"
   ]
  },
  {
   "cell_type": "code",
   "execution_count": null,
   "metadata": {},
   "outputs": [],
   "source": [
    "confianza = 0.99\n",
    "sigma_est = sim_closes.iloc[-1].sem()\n",
    "mean_est = put.iloc[-1].Prima\n",
    "i1 = st.t.interval(confianza,nscen-1, loc=mean_est, scale=sigma_est)\n",
    "i2 = st.norm.interval(confianza, loc=mean_est, scale=sigma_est)\n",
    "print(i1)\n",
    "print(i2)"
   ]
  },
  {
   "cell_type": "markdown",
   "metadata": {},
   "source": [
    "#### Precios simulados usando técnicas de reducción de varianza"
   ]
  },
  {
   "cell_type": "code",
   "execution_count": null,
   "metadata": {},
   "outputs": [],
   "source": [
    "# Usando muestreo estratificado----> #estratros = nscen\n",
    "U = (np.arange(0,nscen)+np.random.rand(ndays,nscen))/nscen\n",
    "Z = st.norm.ppf(U)\n",
    "\n",
    "sim_ret2 = pd.DataFrame(sigma*Z+r,index=dates)\n",
    "sim_closes2 = S0*np.exp(sim_ret.cumsum())\n",
    "\n",
    "# Función de pago\n",
    "strike = pd.DataFrame(K*np.ones([ndays,nscen]), index=dates)\n",
    "put = pd.DataFrame({'Prima':np.exp(-r*ndays) \\\n",
    "              *np.fmax(strike-sim_closes2,np.zeros([ndays,nscen])).T.mean()}, index=dates)\n",
    "put.plot();"
   ]
  },
  {
   "cell_type": "markdown",
   "metadata": {},
   "source": [
    "La valuación de la opción es:"
   ]
  },
  {
   "cell_type": "code",
   "execution_count": null,
   "metadata": {},
   "outputs": [],
   "source": [
    "put.iloc[-1]"
   ]
  },
  {
   "cell_type": "markdown",
   "metadata": {},
   "source": [
    "Intervalo de confianza del 99%"
   ]
  },
  {
   "cell_type": "code",
   "execution_count": null,
   "metadata": {},
   "outputs": [],
   "source": [
    "confianza = 0.99\n",
    "sigma_est = sim_closes2.iloc[-1].sem()\n",
    "mean_est = put.iloc[-1].Prima\n",
    "i1 = st.t.interval(confianza,nscen-1, loc=mean_est, scale=sigma_est)\n",
    "i2 = st.norm.interval(confianza, loc=mean_est, scale=sigma_est)\n",
    "print(i1)\n",
    "print(i1)"
   ]
  },
  {
   "cell_type": "markdown",
   "metadata": {},
   "source": [
    "#### Análisis de la distribución de los rendimientos"
   ]
  },
  {
   "cell_type": "markdown",
   "metadata": {},
   "source": [
    "#### Ajustando norm"
   ]
  },
  {
   "cell_type": "code",
   "execution_count": null,
   "metadata": {},
   "outputs": [],
   "source": [
    "ren = calc_daily_ret(closes) # rendimientos \n",
    "y,x,des = plt.hist(ren['Adj Close'],bins=50,density=True,label='Histograma rendimientos')\n",
    "\n",
    "mu_fit,sd_fit = st.norm.fit(ren) # Se ajustan0 los parámetros de una normal\n",
    "# Valores máximo y mínimo de los rendiemientos a generar\n",
    "ren_max = max(x);ren_min = min(x)\n",
    "# Vector de rendimientos generados\n",
    "ren_gen = np.arange(ren_min,ren_max,0.001)\n",
    "# Generación de la normal ajustado con los parámetros encontrados\n",
    "curve_fit = st.norm.pdf(ren_gen,loc=mu_fit,scale=sd_fit)\n",
    "plt.plot(ren_gen,curve_fit,label='Distribución ajustada')\n",
    "plt.legend()\n",
    "plt.show()"
   ]
  },
  {
   "cell_type": "markdown",
   "metadata": {},
   "source": [
    "#### Ajustando t"
   ]
  },
  {
   "cell_type": "code",
   "execution_count": null,
   "metadata": {},
   "outputs": [],
   "source": [
    "ren = calc_daily_ret(closes) # rendimientos \n",
    "y,x,des = plt.hist(ren['Adj Close'],bins=50,density=True,label='Histograma rendimientos')\n",
    "\n",
    "dof,mu_fit,sd_fit = st.t.fit(ren.values) # Se ajustan los parámetros de una normal\n",
    "# Valores máximo y mínimo de los rendiemientos a generar\n",
    "# ren_max = max(x);ren_min = min(x)\n",
    "# Vector de rendimientos generados\n",
    "ren_gen = np.arange(ren_min,ren_max,0.001)\n",
    "# Generación de la normal ajustado con los parámetros encontrados\n",
    "curve_fit = st.t.pdf(ren_gen, df=dof,loc=mu_fit,scale=sd_fit)\n",
    "plt.plot(ren_gen,curve_fit,label='Distribución ajustada')\n",
    "plt.legend()\n",
    "plt.show()### Ajustando t"
   ]
  },
  {
   "cell_type": "code",
   "execution_count": null,
   "metadata": {},
   "outputs": [],
   "source": [
    "st.probplot(ren['Adj Close'],sparams= dof, dist='t', plot=plt);"
   ]
  },
  {
   "cell_type": "markdown",
   "metadata": {},
   "source": [
    "#### 3. Valuación usando simulación: uso del histograma de rendimientos\n",
    "\n",
    "Todo el análisis anterior se mantiene. Solo cambia la forma de generar los números aleatorios para la simulación montecarlo.\n",
    "\n",
    "Ahora, generemos un histograma de los rendimientos diarios para generar valores aleatorios de los rendimientos simulados."
   ]
  },
  {
   "cell_type": "markdown",
   "metadata": {},
   "source": [
    "- Primero, cantidad de días y número de escenarios de simulación"
   ]
  },
  {
   "cell_type": "code",
   "execution_count": null,
   "metadata": {},
   "outputs": [],
   "source": [
    "ndays = ndays\n",
    "nscen = nscen"
   ]
  },
  {
   "cell_type": "markdown",
   "metadata": {},
   "source": [
    "- Del histograma anterior, ya conocemos las probabilidades de ocurrencia, lo que se llamó como variable `y`"
   ]
  },
  {
   "cell_type": "code",
   "execution_count": null,
   "metadata": {},
   "outputs": [],
   "source": [
    "prob = y/np.sum(y)\n",
    "values = x[1:]"
   ]
  },
  {
   "cell_type": "markdown",
   "metadata": {},
   "source": [
    "- Con esto, generamos los números aleatorios correspondientes a los rendimientos (tantos como días por número de escenarios)."
   ]
  },
  {
   "cell_type": "code",
   "execution_count": null,
   "metadata": {},
   "outputs": [],
   "source": [
    "ret = np.random.choice(values, ndays*nscen, p=prob)\n",
    "dates = pd.date_range(start=Hoy,periods=ndays)\n",
    "sim_ret_hist = pd.DataFrame(ret.reshape((ndays,nscen)),index=dates)\n",
    "sim_ret_hist"
   ]
  },
  {
   "cell_type": "code",
   "execution_count": null,
   "metadata": {},
   "outputs": [],
   "source": [
    "sim_closes_hist = (closes.iloc[-1,0])*np.exp(sim_ret_hist.cumsum())\n",
    "sim_closes_hist"
   ]
  },
  {
   "cell_type": "code",
   "execution_count": null,
   "metadata": {},
   "outputs": [],
   "source": [
    "sim_closes_hist.plot(figsize=(8,6),legend=False);"
   ]
  },
  {
   "cell_type": "code",
   "execution_count": null,
   "metadata": {},
   "outputs": [],
   "source": [
    "pd.concat([closes,sim_closes_hist]).plot(figsize=(8,6),legend=False);\n",
    "plt.title('Simulación usando el histograma de los rendimientos')"
   ]
  },
  {
   "cell_type": "code",
   "execution_count": null,
   "metadata": {},
   "outputs": [],
   "source": [
    "K=340\n",
    "freq, values = np.histogram(ret+r-mu, bins=2000)\n",
    "prob = freq/np.sum(freq)\n",
    "ret=np.random.choice(values[1:],ndays*nscen,p=prob)\n",
    "dates=pd.date_range('2021-11-26',periods=ndays)\n",
    "sim_ret_hist = pd.DataFrame(ret.reshape((ndays,nscen)),index=dates)\n",
    "sim_closes_hist = (closes.iloc[-1,0])*np.exp(sim_ret_hist.cumsum())"
   ]
  },
  {
   "cell_type": "code",
   "execution_count": null,
   "metadata": {},
   "outputs": [],
   "source": [
    "strike = pd.DataFrame(K*np.ones(ndays*nscen).reshape((ndays,nscen)), index=dates)\n",
    "put_hist = pd.DataFrame({'Prima':np.exp(-r*ndays)*np.fmax(strike-sim_closes_hist,np.zeros(ndays*nscen).reshape((ndays,nscen))).T.mean()}, index=dates)\n",
    "put_hist.plot();"
   ]
  },
  {
   "cell_type": "code",
   "execution_count": null,
   "metadata": {},
   "outputs": [],
   "source": [
    "put_hist.iloc[-1]"
   ]
  },
  {
   "cell_type": "code",
   "execution_count": null,
   "metadata": {},
   "outputs": [],
   "source": [
    "confianza = 0.95\n",
    "sigma_est = sim_closes_hist.iloc[-1].sem()\n",
    "mean_est = put_hist.iloc[-1].Prima\n",
    "i1 = st.t.interval(confianza,nscen-1, loc=mean_est, scale=sigma_est)\n",
    "i2 = st.norm.interval(confianza, loc=mean_est, scale=sigma_est)\n",
    "print(i1)\n",
    "print(i1)"
   ]
  },
  {
   "cell_type": "markdown",
   "metadata": {},
   "source": [
    "## Punto 2."
   ]
  },
  {
   "cell_type": "markdown",
   "metadata": {},
   "source": [
    "1. Ecuación de Black-Scholes\n",
    "$$ dS(t) = \\mu S(t) + \\sigma S(t)dW_t$$\n",
    "2. Solución de la ecuación\n",
    "\n",
    "El valor de una opción Europea de vainilla $V_t$ puede obtenerse por:\n",
    "$$V_t = F(t,S_t)$$ donde\n",
    "\n",
    "$$F(t,S_t)=S_tN(d_1)-Ke^{r(t-t)}N(d_2)$$\n",
    "$$N(x)=\\frac{1}{\\sqrt(2\\pi)}\\int^x_{-\\inf}e^{-y^2/2}dy$$\n",
    "$$d1=\\frac{ln(S_t/K)+(r+\\frac{1}{2}\\sigma^2)(T-t)}{\\sigma\\sqrt(T-t)}$$\n",
    "$$d2=\\frac{ln(S_t/K)+(r-\\frac{1}{2}\\sigma^2)(T-t)}{\\sigma\\sqrt(T-t)}$$\n",
    "$$p=ke^{-rT}N(d2)-S_tN(d1)$$"
   ]
  },
  {
   "cell_type": "code",
   "execution_count": null,
   "metadata": {},
   "outputs": [],
   "source": [
    "S0=339.830\n",
    "k=340\n",
    "r=0.0021/360\n",
    "sigma=0.017\n",
    "sigma2=sigma*sigma\n",
    "T=1\n",
    "\n",
    "d1=(np.log(S0/k)+(r+0.5*sigma2)*(T))/(sigma*np.sqrt(T))\n",
    "d2=d1-sigma*np.sqrt(T)\n",
    "\n",
    "from scipy.stats import norm\n",
    "N1=norm.cdf(d1)\n",
    "N2=norm.cdf(d2)\n",
    "\n",
    "p=k*np.exp(-r*T)*N1-S0*N2\n",
    "p"
   ]
  }
 ],
 "metadata": {
  "kernelspec": {
   "display_name": "Python 3",
   "language": "python",
   "name": "python3"
  },
  "language_info": {
   "codemirror_mode": {
    "name": "ipython",
    "version": 3
   },
   "file_extension": ".py",
   "mimetype": "text/x-python",
   "name": "python",
   "nbconvert_exporter": "python",
   "pygments_lexer": "ipython3",
   "version": "3.6.5"
  }
 },
 "nbformat": 4,
 "nbformat_minor": 4
}
