{
 "cells": [
  {
   "cell_type": "markdown",
   "metadata": {},
   "source": [
    "<img style=\"float: left; margin: 30px 15px 15px 15px;\" src=\"https://pngimage.net/wp-content/uploads/2018/06/logo-iteso-png-5.png\" width=\"300\" height=\"500\" /> \n",
    "    \n",
    "    \n",
    "### <font color='navy'> Simulación de procesos financieros. \n",
    "\n",
    "**Nombres:** Carolina Flores Luelmo y Frida María Hernandez López.\n",
    "\n",
    "**Fecha:** 23 de noviembre del 2021.\n",
    "    \n",
    "**Expediente** : Carolina: 713578. Frida: 720476.\n",
    "    \n",
    "**Profesor:** Oscar David Jaramillo Zuluaga.\n",
    "\n",
    "**Liga GitHub:** https://github.com/FridaHernandezL/Tarea8_CFlores_FHernandez\n",
    "\n",
    "# Tarea 8. Clase 22"
   ]
  },
  {
   "cell_type": "markdown",
   "metadata": {},
   "source": [
    "1. Replicar el procedimiento anterior para valoración de opciones 'call', pero en este caso para opciones tipo 'put'.\n",
    "2. Además deben de comparar con los resultados teoricos del método de valuación de Black-Scholes (ecuación del principio de clase)"
   ]
  },
  {
   "cell_type": "markdown",
   "metadata": {},
   "source": [
    "#### Código de solución `ESTUDIANTE 1: CAROLINA FLORES`"
   ]
  },
  {
   "cell_type": "code",
   "execution_count": null,
   "metadata": {},
   "outputs": [],
   "source": []
  },
  {
   "cell_type": "markdown",
   "metadata": {},
   "source": [
    "#### Código de solución `ESTUDIANTE 2: FRIDA HERNÁNDEZ`"
   ]
  },
  {
   "cell_type": "markdown",
   "metadata": {},
   "source": [
    "## Punto 1."
   ]
  },
  {
   "cell_type": "markdown",
   "metadata": {},
   "source": [
    "#### Simulación de precios usando rendimiento simple y logarítmico "
   ]
  },
  {
   "cell_type": "code",
   "execution_count": 1,
   "metadata": {},
   "outputs": [],
   "source": [
    "#importar los paquetes que se van a usar\n",
    "import pandas as pd\n",
    "import pandas_datareader.data as web\n",
    "import numpy as np\n",
    "import datetime\n",
    "import matplotlib.pyplot as plt\n",
    "import scipy.stats as st\n",
    "import seaborn as sns\n",
    "%matplotlib inline\n",
    "#algunas opciones para Pandas\n",
    "pd.set_option('display.notebook_repr_html', True)\n",
    "pd.set_option('display.max_columns', 6)\n",
    "pd.set_option('display.max_rows', 10)\n",
    "pd.set_option('display.width', 78)\n",
    "pd.set_option('precision', 3)"
   ]
  },
  {
   "cell_type": "code",
   "execution_count": 2,
   "metadata": {},
   "outputs": [
    {
     "data": {
      "text/html": [
       "<div>\n",
       "<style scoped>\n",
       "    .dataframe tbody tr th:only-of-type {\n",
       "        vertical-align: middle;\n",
       "    }\n",
       "\n",
       "    .dataframe tbody tr th {\n",
       "        vertical-align: top;\n",
       "    }\n",
       "\n",
       "    .dataframe thead th {\n",
       "        text-align: right;\n",
       "    }\n",
       "</style>\n",
       "<table border=\"1\" class=\"dataframe\">\n",
       "  <thead>\n",
       "    <tr style=\"text-align: right;\">\n",
       "      <th></th>\n",
       "      <th>contractSymbol</th>\n",
       "      <th>lastTradeDate</th>\n",
       "      <th>strike</th>\n",
       "      <th>...</th>\n",
       "      <th>inTheMoney</th>\n",
       "      <th>contractSize</th>\n",
       "      <th>currency</th>\n",
       "    </tr>\n",
       "  </thead>\n",
       "  <tbody>\n",
       "    <tr>\n",
       "      <th>0</th>\n",
       "      <td>AAPL211126P00075000</td>\n",
       "      <td>2021-11-08 17:30:26</td>\n",
       "      <td>75.0</td>\n",
       "      <td>...</td>\n",
       "      <td>False</td>\n",
       "      <td>REGULAR</td>\n",
       "      <td>USD</td>\n",
       "    </tr>\n",
       "    <tr>\n",
       "      <th>1</th>\n",
       "      <td>AAPL211126P00080000</td>\n",
       "      <td>2021-11-23 16:26:22</td>\n",
       "      <td>80.0</td>\n",
       "      <td>...</td>\n",
       "      <td>False</td>\n",
       "      <td>REGULAR</td>\n",
       "      <td>USD</td>\n",
       "    </tr>\n",
       "    <tr>\n",
       "      <th>2</th>\n",
       "      <td>AAPL211126P00085000</td>\n",
       "      <td>2021-11-04 16:22:20</td>\n",
       "      <td>85.0</td>\n",
       "      <td>...</td>\n",
       "      <td>False</td>\n",
       "      <td>REGULAR</td>\n",
       "      <td>USD</td>\n",
       "    </tr>\n",
       "    <tr>\n",
       "      <th>3</th>\n",
       "      <td>AAPL211126P00090000</td>\n",
       "      <td>2021-10-25 16:04:20</td>\n",
       "      <td>90.0</td>\n",
       "      <td>...</td>\n",
       "      <td>False</td>\n",
       "      <td>REGULAR</td>\n",
       "      <td>USD</td>\n",
       "    </tr>\n",
       "    <tr>\n",
       "      <th>4</th>\n",
       "      <td>AAPL211126P00095000</td>\n",
       "      <td>2021-11-05 14:34:21</td>\n",
       "      <td>95.0</td>\n",
       "      <td>...</td>\n",
       "      <td>False</td>\n",
       "      <td>REGULAR</td>\n",
       "      <td>USD</td>\n",
       "    </tr>\n",
       "    <tr>\n",
       "      <th>...</th>\n",
       "      <td>...</td>\n",
       "      <td>...</td>\n",
       "      <td>...</td>\n",
       "      <td>...</td>\n",
       "      <td>...</td>\n",
       "      <td>...</td>\n",
       "      <td>...</td>\n",
       "    </tr>\n",
       "    <tr>\n",
       "      <th>52</th>\n",
       "      <td>AAPL211126P00185000</td>\n",
       "      <td>2021-11-23 20:54:09</td>\n",
       "      <td>185.0</td>\n",
       "      <td>...</td>\n",
       "      <td>True</td>\n",
       "      <td>REGULAR</td>\n",
       "      <td>USD</td>\n",
       "    </tr>\n",
       "    <tr>\n",
       "      <th>53</th>\n",
       "      <td>AAPL211126P00190000</td>\n",
       "      <td>2021-11-23 14:44:12</td>\n",
       "      <td>190.0</td>\n",
       "      <td>...</td>\n",
       "      <td>True</td>\n",
       "      <td>REGULAR</td>\n",
       "      <td>USD</td>\n",
       "    </tr>\n",
       "    <tr>\n",
       "      <th>54</th>\n",
       "      <td>AAPL211126P00195000</td>\n",
       "      <td>2021-11-23 17:23:20</td>\n",
       "      <td>195.0</td>\n",
       "      <td>...</td>\n",
       "      <td>True</td>\n",
       "      <td>REGULAR</td>\n",
       "      <td>USD</td>\n",
       "    </tr>\n",
       "    <tr>\n",
       "      <th>55</th>\n",
       "      <td>AAPL211126P00200000</td>\n",
       "      <td>2021-11-23 14:44:04</td>\n",
       "      <td>200.0</td>\n",
       "      <td>...</td>\n",
       "      <td>True</td>\n",
       "      <td>REGULAR</td>\n",
       "      <td>USD</td>\n",
       "    </tr>\n",
       "    <tr>\n",
       "      <th>56</th>\n",
       "      <td>AAPL211126P00205000</td>\n",
       "      <td>2021-11-23 18:53:56</td>\n",
       "      <td>205.0</td>\n",
       "      <td>...</td>\n",
       "      <td>True</td>\n",
       "      <td>REGULAR</td>\n",
       "      <td>USD</td>\n",
       "    </tr>\n",
       "  </tbody>\n",
       "</table>\n",
       "<p>57 rows × 14 columns</p>\n",
       "</div>"
      ],
      "text/plain": [
       "         contractSymbol       lastTradeDate  strike  ...  inTheMoney  \\\n",
       "0   AAPL211126P00075000 2021-11-08 17:30:26    75.0  ...       False   \n",
       "1   AAPL211126P00080000 2021-11-23 16:26:22    80.0  ...       False   \n",
       "2   AAPL211126P00085000 2021-11-04 16:22:20    85.0  ...       False   \n",
       "3   AAPL211126P00090000 2021-10-25 16:04:20    90.0  ...       False   \n",
       "4   AAPL211126P00095000 2021-11-05 14:34:21    95.0  ...       False   \n",
       "..                  ...                 ...     ...  ...         ...   \n",
       "52  AAPL211126P00185000 2021-11-23 20:54:09   185.0  ...        True   \n",
       "53  AAPL211126P00190000 2021-11-23 14:44:12   190.0  ...        True   \n",
       "54  AAPL211126P00195000 2021-11-23 17:23:20   195.0  ...        True   \n",
       "55  AAPL211126P00200000 2021-11-23 14:44:04   200.0  ...        True   \n",
       "56  AAPL211126P00205000 2021-11-23 18:53:56   205.0  ...        True   \n",
       "\n",
       "    contractSize  currency  \n",
       "0        REGULAR       USD  \n",
       "1        REGULAR       USD  \n",
       "2        REGULAR       USD  \n",
       "3        REGULAR       USD  \n",
       "4        REGULAR       USD  \n",
       "..           ...       ...  \n",
       "52       REGULAR       USD  \n",
       "53       REGULAR       USD  \n",
       "54       REGULAR       USD  \n",
       "55       REGULAR       USD  \n",
       "56       REGULAR       USD  \n",
       "\n",
       "[57 rows x 14 columns]"
      ]
     },
     "execution_count": 2,
     "metadata": {},
     "output_type": "execute_result"
    }
   ],
   "source": [
    "import yfinance as yf\n",
    "def options_yf(ticker : \"Ticker en formato string\"):\n",
    "    \"\"\"\n",
    "    options_yf descarga información de opciones financieras con ayuda de yfinance\n",
    "    \n",
    "    *ticker : es el símbolo de cotización de la acción\n",
    "    \"\"\"\n",
    "    stock = yf.Ticker(ticker)\n",
    "    calls, puts = stock.option_chain(stock.options[0]) \n",
    "    return calls, puts\n",
    "c, p = options_yf(\"AAPL\")\n",
    "p"
   ]
  },
  {
   "cell_type": "code",
   "execution_count": 3,
   "metadata": {},
   "outputs": [
    {
     "data": {
      "text/html": [
       "<div>\n",
       "<style scoped>\n",
       "    .dataframe tbody tr th:only-of-type {\n",
       "        vertical-align: middle;\n",
       "    }\n",
       "\n",
       "    .dataframe tbody tr th {\n",
       "        vertical-align: top;\n",
       "    }\n",
       "\n",
       "    .dataframe thead th {\n",
       "        text-align: right;\n",
       "    }\n",
       "</style>\n",
       "<table border=\"1\" class=\"dataframe\">\n",
       "  <thead>\n",
       "    <tr style=\"text-align: right;\">\n",
       "      <th></th>\n",
       "      <th>Adj Close</th>\n",
       "    </tr>\n",
       "    <tr>\n",
       "      <th>Date</th>\n",
       "      <th></th>\n",
       "    </tr>\n",
       "  </thead>\n",
       "  <tbody>\n",
       "    <tr>\n",
       "      <th>03/01/2017</th>\n",
       "      <td>27.332</td>\n",
       "    </tr>\n",
       "    <tr>\n",
       "      <th>04/01/2017</th>\n",
       "      <td>27.302</td>\n",
       "    </tr>\n",
       "    <tr>\n",
       "      <th>05/01/2017</th>\n",
       "      <td>27.441</td>\n",
       "    </tr>\n",
       "    <tr>\n",
       "      <th>06/01/2017</th>\n",
       "      <td>27.747</td>\n",
       "    </tr>\n",
       "    <tr>\n",
       "      <th>09/01/2017</th>\n",
       "      <td>28.001</td>\n",
       "    </tr>\n",
       "  </tbody>\n",
       "</table>\n",
       "</div>"
      ],
      "text/plain": [
       "            Adj Close\n",
       "Date                 \n",
       "03/01/2017     27.332\n",
       "04/01/2017     27.302\n",
       "05/01/2017     27.441\n",
       "06/01/2017     27.747\n",
       "09/01/2017     28.001"
      ]
     },
     "execution_count": 3,
     "metadata": {},
     "output_type": "execute_result"
    }
   ],
   "source": [
    "data = pd.read_csv('AAPL.csv')\n",
    "data=data.set_index('Date')\n",
    "closes=pd.DataFrame(data.iloc[:,4])\n",
    "closes.head()"
   ]
  },
  {
   "cell_type": "markdown",
   "metadata": {},
   "source": [
    "* Comenzaremos por suponer que los rendimientos son un p.e. estacionario que distribuyen $\\mathcal{N}(\\mu,\\sigma)$."
   ]
  },
  {
   "cell_type": "code",
   "execution_count": 4,
   "metadata": {},
   "outputs": [
    {
     "data": {
      "text/html": [
       "<div>\n",
       "<style scoped>\n",
       "    .dataframe tbody tr th:only-of-type {\n",
       "        vertical-align: middle;\n",
       "    }\n",
       "\n",
       "    .dataframe tbody tr th {\n",
       "        vertical-align: top;\n",
       "    }\n",
       "\n",
       "    .dataframe thead th {\n",
       "        text-align: right;\n",
       "    }\n",
       "</style>\n",
       "<table border=\"1\" class=\"dataframe\">\n",
       "  <thead>\n",
       "    <tr style=\"text-align: right;\">\n",
       "      <th></th>\n",
       "      <th>Adj Close</th>\n",
       "    </tr>\n",
       "    <tr>\n",
       "      <th>Date</th>\n",
       "      <th></th>\n",
       "    </tr>\n",
       "  </thead>\n",
       "  <tbody>\n",
       "    <tr>\n",
       "      <th>04/01/2017</th>\n",
       "      <td>-0.001</td>\n",
       "    </tr>\n",
       "    <tr>\n",
       "      <th>05/01/2017</th>\n",
       "      <td>0.005</td>\n",
       "    </tr>\n",
       "    <tr>\n",
       "      <th>06/01/2017</th>\n",
       "      <td>0.011</td>\n",
       "    </tr>\n",
       "    <tr>\n",
       "      <th>09/01/2017</th>\n",
       "      <td>0.009</td>\n",
       "    </tr>\n",
       "    <tr>\n",
       "      <th>10/01/2017</th>\n",
       "      <td>0.001</td>\n",
       "    </tr>\n",
       "  </tbody>\n",
       "</table>\n",
       "</div>"
      ],
      "text/plain": [
       "            Adj Close\n",
       "Date                 \n",
       "04/01/2017     -0.001\n",
       "05/01/2017      0.005\n",
       "06/01/2017      0.011\n",
       "09/01/2017      0.009\n",
       "10/01/2017      0.001"
      ]
     },
     "execution_count": 4,
     "metadata": {},
     "output_type": "execute_result"
    }
   ],
   "source": [
    "# Obtenemos el rendimiento simple\n",
    "Ri = closes.pct_change(1).iloc[1:]\n",
    "# Obtenemos su media y desviación estándar de los rendimientos\n",
    "mu_R = Ri.mean()[0]\n",
    "sigma_R = Ri.std()[0]\n",
    "Ri.head()"
   ]
  },
  {
   "cell_type": "code",
   "execution_count": 5,
   "metadata": {},
   "outputs": [],
   "source": [
    "from datetime import date\n",
    "\n",
    "today = pd.Timestamp(date.today())\n",
    "expiry = '2022-02-18'\n",
    "\n",
    "nscen = 10000\n",
    "dates = pd.date_range(start=today, end=expiry, freq='B')\n",
    "ndays = len(dates)"
   ]
  },
  {
   "cell_type": "markdown",
   "metadata": {},
   "source": [
    "#### Mostrar como simular precios usando los rendimientos"
   ]
  },
  {
   "cell_type": "code",
   "execution_count": 6,
   "metadata": {},
   "outputs": [
    {
     "data": {
      "text/html": [
       "<div>\n",
       "<style scoped>\n",
       "    .dataframe tbody tr th:only-of-type {\n",
       "        vertical-align: middle;\n",
       "    }\n",
       "\n",
       "    .dataframe tbody tr th {\n",
       "        vertical-align: top;\n",
       "    }\n",
       "\n",
       "    .dataframe thead th {\n",
       "        text-align: right;\n",
       "    }\n",
       "</style>\n",
       "<table border=\"1\" class=\"dataframe\">\n",
       "  <thead>\n",
       "    <tr style=\"text-align: right;\">\n",
       "      <th></th>\n",
       "      <th>0</th>\n",
       "      <th>1</th>\n",
       "      <th>2</th>\n",
       "      <th>...</th>\n",
       "      <th>9997</th>\n",
       "      <th>9998</th>\n",
       "      <th>9999</th>\n",
       "    </tr>\n",
       "  </thead>\n",
       "  <tbody>\n",
       "    <tr>\n",
       "      <th>2021-11-23</th>\n",
       "      <td>7.305e-03</td>\n",
       "      <td>-4.332e-04</td>\n",
       "      <td>-4.022e-02</td>\n",
       "      <td>...</td>\n",
       "      <td>2.518e-02</td>\n",
       "      <td>-5.098e-03</td>\n",
       "      <td>-4.290e-03</td>\n",
       "    </tr>\n",
       "    <tr>\n",
       "      <th>2021-11-24</th>\n",
       "      <td>-8.078e-05</td>\n",
       "      <td>-4.019e-06</td>\n",
       "      <td>6.992e-04</td>\n",
       "      <td>...</td>\n",
       "      <td>-1.066e-04</td>\n",
       "      <td>6.730e-05</td>\n",
       "      <td>5.251e-05</td>\n",
       "    </tr>\n",
       "    <tr>\n",
       "      <th>2021-11-25</th>\n",
       "      <td>-1.134e-06</td>\n",
       "      <td>1.388e-08</td>\n",
       "      <td>9.684e-06</td>\n",
       "      <td>...</td>\n",
       "      <td>5.213e-07</td>\n",
       "      <td>-1.994e-06</td>\n",
       "      <td>-3.426e-07</td>\n",
       "    </tr>\n",
       "    <tr>\n",
       "      <th>2021-11-26</th>\n",
       "      <td>-3.374e-08</td>\n",
       "      <td>9.679e-11</td>\n",
       "      <td>1.446e-07</td>\n",
       "      <td>...</td>\n",
       "      <td>1.671e-09</td>\n",
       "      <td>1.510e-08</td>\n",
       "      <td>8.381e-09</td>\n",
       "    </tr>\n",
       "    <tr>\n",
       "      <th>2021-11-29</th>\n",
       "      <td>-8.827e-10</td>\n",
       "      <td>-3.112e-13</td>\n",
       "      <td>-1.673e-09</td>\n",
       "      <td>...</td>\n",
       "      <td>-4.544e-11</td>\n",
       "      <td>-1.064e-11</td>\n",
       "      <td>-6.411e-11</td>\n",
       "    </tr>\n",
       "    <tr>\n",
       "      <th>...</th>\n",
       "      <td>...</td>\n",
       "      <td>...</td>\n",
       "      <td>...</td>\n",
       "      <td>...</td>\n",
       "      <td>...</td>\n",
       "      <td>...</td>\n",
       "      <td>...</td>\n",
       "    </tr>\n",
       "    <tr>\n",
       "      <th>2022-02-14</th>\n",
       "      <td>-1.704e-112</td>\n",
       "      <td>-2.507e-124</td>\n",
       "      <td>-4.190e-128</td>\n",
       "      <td>...</td>\n",
       "      <td>1.186e-115</td>\n",
       "      <td>-4.774e-122</td>\n",
       "      <td>1.016e-117</td>\n",
       "    </tr>\n",
       "    <tr>\n",
       "      <th>2022-02-15</th>\n",
       "      <td>2.699e-115</td>\n",
       "      <td>1.346e-126</td>\n",
       "      <td>5.897e-130</td>\n",
       "      <td>...</td>\n",
       "      <td>-1.056e-117</td>\n",
       "      <td>6.596e-124</td>\n",
       "      <td>-4.625e-119</td>\n",
       "    </tr>\n",
       "    <tr>\n",
       "      <th>2022-02-16</th>\n",
       "      <td>-5.317e-117</td>\n",
       "      <td>-5.282e-128</td>\n",
       "      <td>1.335e-132</td>\n",
       "      <td>...</td>\n",
       "      <td>-2.898e-120</td>\n",
       "      <td>1.487e-125</td>\n",
       "      <td>-1.547e-120</td>\n",
       "    </tr>\n",
       "    <tr>\n",
       "      <th>2022-02-17</th>\n",
       "      <td>-1.390e-118</td>\n",
       "      <td>-1.237e-129</td>\n",
       "      <td>-1.971e-134</td>\n",
       "      <td>...</td>\n",
       "      <td>-2.216e-122</td>\n",
       "      <td>-3.081e-128</td>\n",
       "      <td>-3.437e-123</td>\n",
       "    </tr>\n",
       "    <tr>\n",
       "      <th>2022-02-18</th>\n",
       "      <td>-9.839e-121</td>\n",
       "      <td>1.050e-131</td>\n",
       "      <td>-1.093e-136</td>\n",
       "      <td>...</td>\n",
       "      <td>3.492e-124</td>\n",
       "      <td>-3.035e-130</td>\n",
       "      <td>6.569e-125</td>\n",
       "    </tr>\n",
       "  </tbody>\n",
       "</table>\n",
       "<p>64 rows × 10000 columns</p>\n",
       "</div>"
      ],
      "text/plain": [
       "                  0           1           2     ...        9997        9998  \\\n",
       "2021-11-23   7.305e-03  -4.332e-04  -4.022e-02  ...   2.518e-02  -5.098e-03   \n",
       "2021-11-24  -8.078e-05  -4.019e-06   6.992e-04  ...  -1.066e-04   6.730e-05   \n",
       "2021-11-25  -1.134e-06   1.388e-08   9.684e-06  ...   5.213e-07  -1.994e-06   \n",
       "2021-11-26  -3.374e-08   9.679e-11   1.446e-07  ...   1.671e-09   1.510e-08   \n",
       "2021-11-29  -8.827e-10  -3.112e-13  -1.673e-09  ...  -4.544e-11  -1.064e-11   \n",
       "...                ...         ...         ...  ...         ...         ...   \n",
       "2022-02-14 -1.704e-112 -2.507e-124 -4.190e-128  ...  1.186e-115 -4.774e-122   \n",
       "2022-02-15  2.699e-115  1.346e-126  5.897e-130  ... -1.056e-117  6.596e-124   \n",
       "2022-02-16 -5.317e-117 -5.282e-128  1.335e-132  ... -2.898e-120  1.487e-125   \n",
       "2022-02-17 -1.390e-118 -1.237e-129 -1.971e-134  ... -2.216e-122 -3.081e-128   \n",
       "2022-02-18 -9.839e-121  1.050e-131 -1.093e-136  ...  3.492e-124 -3.035e-130   \n",
       "\n",
       "                  9999  \n",
       "2021-11-23  -4.290e-03  \n",
       "2021-11-24   5.251e-05  \n",
       "2021-11-25  -3.426e-07  \n",
       "2021-11-26   8.381e-09  \n",
       "2021-11-29  -6.411e-11  \n",
       "...                ...  \n",
       "2022-02-14  1.016e-117  \n",
       "2022-02-15 -4.625e-119  \n",
       "2022-02-16 -1.547e-120  \n",
       "2022-02-17 -3.437e-123  \n",
       "2022-02-18  6.569e-125  \n",
       "\n",
       "[64 rows x 10000 columns]"
      ]
     },
     "execution_count": 6,
     "metadata": {},
     "output_type": "execute_result"
    }
   ],
   "source": [
    "dt = 1; # Rendimiento diario \n",
    "Z = np.random.randn(ndays,nscen)  # Z ~ N(0,1)\n",
    "# Simulación normal de los rendimientos\n",
    "Ri_dt = pd.DataFrame(mu_R*dt+Z*sigma_R*np.sqrt(dt),index=dates)\n",
    "Ri_dt.cumprod()"
   ]
  },
  {
   "cell_type": "code",
   "execution_count": 7,
   "metadata": {},
   "outputs": [],
   "source": [
    "# Simulación del precio\n",
    "S_0 = closes.iloc[-1,0]\n",
    "S_T = S_0*(1+Ri_dt).cumprod()\n",
    "\n",
    "# Se muestran los precios simulados con los precios descargados\n",
    "# pd.concat([closes_aapl,S_T]).plot(figsize=(8,6));\n",
    "# plt.title('Simulación de precios usando rendimiento simple');"
   ]
  },
  {
   "cell_type": "markdown",
   "metadata": {},
   "source": [
    "#### Rendimiento Logarítmico"
   ]
  },
  {
   "cell_type": "code",
   "execution_count": 8,
   "metadata": {},
   "outputs": [
    {
     "data": {
      "text/plain": [
       "0.19225448680596655"
      ]
     },
     "execution_count": 8,
     "metadata": {},
     "output_type": "execute_result"
    }
   ],
   "source": [
    "def calc_daily_ret(closes):\n",
    "    return np.log(closes/closes.shift(1)).iloc[1:]\n",
    "\n",
    "ri = calc_daily_ret(closes)\n",
    "# Usando la media y desviación estándar de los rendimientos logarítmicos\n",
    "mu_r = ri.mean()[0]\n",
    "sigma_r = ri.std()[0]\n",
    "\n",
    "# # Usando la equivalencia teórica\n",
    "# mu_r2 = mu_R - (sigma_R**2)/2\n",
    "\n",
    "sim_ret_ri = pd.DataFrame(mu_r*dt+Z*sigma_r*np.sqrt(dt), index=dates)\n",
    "\n",
    "# Simulación del precio\n",
    "S_0 = closes.iloc[-1,0]\n",
    "S_T2 = S_0*np.exp(sim_ret_ri.cumsum())\n",
    "\n",
    "# Se muestran los precios simulados con los precios descargados\n",
    "# pd.concat([closes_aapl,S_T2]).plot(figsize=(8,6));\n",
    "# plt.title('Simulación de precios usando rendimiento logarítmico');\n",
    "\n",
    "# from sklearn.metrics import mean_absolute_error\n",
    "e1 = np.abs(S_T-S_T2).mean().mean()\n",
    "e1"
   ]
  },
  {
   "cell_type": "code",
   "execution_count": 9,
   "metadata": {},
   "outputs": [
    {
     "data": {
      "text/html": [
       "<div>\n",
       "<style scoped>\n",
       "    .dataframe tbody tr th:only-of-type {\n",
       "        vertical-align: middle;\n",
       "    }\n",
       "\n",
       "    .dataframe tbody tr th {\n",
       "        vertical-align: top;\n",
       "    }\n",
       "\n",
       "    .dataframe thead th {\n",
       "        text-align: right;\n",
       "    }\n",
       "</style>\n",
       "<table border=\"1\" class=\"dataframe\">\n",
       "  <thead>\n",
       "    <tr style=\"text-align: right;\">\n",
       "      <th></th>\n",
       "      <th>0</th>\n",
       "      <th>1</th>\n",
       "      <th>2</th>\n",
       "      <th>...</th>\n",
       "      <th>9997</th>\n",
       "      <th>9998</th>\n",
       "      <th>9999</th>\n",
       "    </tr>\n",
       "  </thead>\n",
       "  <tbody>\n",
       "    <tr>\n",
       "      <th>2021-11-23</th>\n",
       "      <td>NaN</td>\n",
       "      <td>NaN</td>\n",
       "      <td>NaN</td>\n",
       "      <td>...</td>\n",
       "      <td>NaN</td>\n",
       "      <td>NaN</td>\n",
       "      <td>NaN</td>\n",
       "    </tr>\n",
       "    <tr>\n",
       "      <th>2021-11-24</th>\n",
       "      <td>160.356</td>\n",
       "      <td>162.391</td>\n",
       "      <td>151.942</td>\n",
       "      <td>...</td>\n",
       "      <td>164.370</td>\n",
       "      <td>158.038</td>\n",
       "      <td>158.319</td>\n",
       "    </tr>\n",
       "    <tr>\n",
       "      <th>2021-11-25</th>\n",
       "      <td>162.595</td>\n",
       "      <td>161.801</td>\n",
       "      <td>154.034</td>\n",
       "      <td>...</td>\n",
       "      <td>163.537</td>\n",
       "      <td>153.393</td>\n",
       "      <td>157.259</td>\n",
       "    </tr>\n",
       "    <tr>\n",
       "      <th>2021-11-26</th>\n",
       "      <td>167.479</td>\n",
       "      <td>162.904</td>\n",
       "      <td>156.324</td>\n",
       "      <td>...</td>\n",
       "      <td>164.032</td>\n",
       "      <td>152.206</td>\n",
       "      <td>153.427</td>\n",
       "    </tr>\n",
       "    <tr>\n",
       "      <th>2021-11-29</th>\n",
       "      <td>171.890</td>\n",
       "      <td>162.350</td>\n",
       "      <td>154.494</td>\n",
       "      <td>...</td>\n",
       "      <td>159.598</td>\n",
       "      <td>152.070</td>\n",
       "      <td>152.228</td>\n",
       "    </tr>\n",
       "    <tr>\n",
       "      <th>...</th>\n",
       "      <td>...</td>\n",
       "      <td>...</td>\n",
       "      <td>...</td>\n",
       "      <td>...</td>\n",
       "      <td>...</td>\n",
       "      <td>...</td>\n",
       "      <td>...</td>\n",
       "    </tr>\n",
       "    <tr>\n",
       "      <th>2022-02-14</th>\n",
       "      <td>182.279</td>\n",
       "      <td>196.835</td>\n",
       "      <td>162.412</td>\n",
       "      <td>...</td>\n",
       "      <td>229.773</td>\n",
       "      <td>153.369</td>\n",
       "      <td>176.514</td>\n",
       "    </tr>\n",
       "    <tr>\n",
       "      <th>2022-02-15</th>\n",
       "      <td>181.956</td>\n",
       "      <td>195.743</td>\n",
       "      <td>160.111</td>\n",
       "      <td>...</td>\n",
       "      <td>227.690</td>\n",
       "      <td>151.234</td>\n",
       "      <td>168.622</td>\n",
       "    </tr>\n",
       "    <tr>\n",
       "      <th>2022-02-16</th>\n",
       "      <td>178.370</td>\n",
       "      <td>188.168</td>\n",
       "      <td>160.444</td>\n",
       "      <td>...</td>\n",
       "      <td>228.274</td>\n",
       "      <td>154.656</td>\n",
       "      <td>174.329</td>\n",
       "    </tr>\n",
       "    <tr>\n",
       "      <th>2022-02-17</th>\n",
       "      <td>183.066</td>\n",
       "      <td>192.595</td>\n",
       "      <td>158.060</td>\n",
       "      <td>...</td>\n",
       "      <td>229.985</td>\n",
       "      <td>154.307</td>\n",
       "      <td>174.685</td>\n",
       "    </tr>\n",
       "    <tr>\n",
       "      <th>2022-02-18</th>\n",
       "      <td>184.333</td>\n",
       "      <td>190.931</td>\n",
       "      <td>158.910</td>\n",
       "      <td>...</td>\n",
       "      <td>226.344</td>\n",
       "      <td>155.806</td>\n",
       "      <td>171.343</td>\n",
       "    </tr>\n",
       "  </tbody>\n",
       "</table>\n",
       "<p>64 rows × 10000 columns</p>\n",
       "</div>"
      ],
      "text/plain": [
       "               0        1        2     ...     9997     9998     9999\n",
       "2021-11-23      NaN      NaN      NaN  ...      NaN      NaN      NaN\n",
       "2021-11-24  160.356  162.391  151.942  ...  164.370  158.038  158.319\n",
       "2021-11-25  162.595  161.801  154.034  ...  163.537  153.393  157.259\n",
       "2021-11-26  167.479  162.904  156.324  ...  164.032  152.206  153.427\n",
       "2021-11-29  171.890  162.350  154.494  ...  159.598  152.070  152.228\n",
       "...             ...      ...      ...  ...      ...      ...      ...\n",
       "2022-02-14  182.279  196.835  162.412  ...  229.773  153.369  176.514\n",
       "2022-02-15  181.956  195.743  160.111  ...  227.690  151.234  168.622\n",
       "2022-02-16  178.370  188.168  160.444  ...  228.274  154.656  174.329\n",
       "2022-02-17  183.066  192.595  158.060  ...  229.985  154.307  174.685\n",
       "2022-02-18  184.333  190.931  158.910  ...  226.344  155.806  171.343\n",
       "\n",
       "[64 rows x 10000 columns]"
      ]
     },
     "execution_count": 9,
     "metadata": {},
     "output_type": "execute_result"
    }
   ],
   "source": [
    "S_T2.iloc[0, :] = closes.iloc[-1]\n",
    "S_T2"
   ]
  },
  {
   "cell_type": "code",
   "execution_count": 10,
   "metadata": {},
   "outputs": [
    {
     "name": "stdout",
     "output_type": "stream",
     "text": [
      "Las std usando rendimientos logarítmicos y simples son similares\n"
     ]
    },
    {
     "data": {
      "text/plain": [
       "(0.019188045380535527, 0.019205777282655722)"
      ]
     },
     "execution_count": 10,
     "metadata": {},
     "output_type": "execute_result"
    }
   ],
   "source": [
    "print('Las std usando rendimientos logarítmicos y simples son similares')\n",
    "sigma_R,sigma_r"
   ]
  },
  {
   "cell_type": "markdown",
   "metadata": {},
   "source": [
    "Con los precios simulados debemos de encontrar el valor de la opción según la función de pago correspondiente. Para este caso es:\n",
    "$$\n",
    "max(K - S_T,0)\n",
    "$$"
   ]
  },
  {
   "cell_type": "code",
   "execution_count": 11,
   "metadata": {},
   "outputs": [
    {
     "data": {
      "text/plain": [
       "Prima    1.547\n",
       "Name: 2022-02-18 00:00:00, dtype: float64"
      ]
     },
     "execution_count": 11,
     "metadata": {},
     "output_type": "execute_result"
    },
    {
     "data": {
      "image/png": "[encoded data removed]",
      "text/plain": [
       "<Figure size 432x288 with 1 Axes>"
      ]
     },
     "metadata": {
      "needs_background": "light"
     },
     "output_type": "display_data"
    }
   ],
   "source": [
    "strike = 150\n",
    "put = pd.DataFrame({'Prima':np.exp(-mu_r*ndays) \\\n",
    "              *np.fmax(strike-S_T2, 0).mean(axis=1)}, index=dates)\n",
    "put.plot();\n",
    "put.iloc[-1]"
   ]
  },
  {
   "cell_type": "markdown",
   "metadata": {},
   "source": [
    "#### 2. Valuación usando simulación: modelo normal para los rendimientos"
   ]
  },
  {
   "cell_type": "markdown",
   "metadata": {},
   "source": [
    "- Hallar media y desviación estándar muestral de los rendimientos logarítmicos"
   ]
  },
  {
   "cell_type": "code",
   "execution_count": 12,
   "metadata": {},
   "outputs": [
    {
     "data": {
      "image/png": "[encoded data removed]",
      "text/plain": [
       "<Figure size 576x432 with 1 Axes>"
      ]
     },
     "metadata": {
      "needs_background": "light"
     },
     "output_type": "display_data"
    }
   ],
   "source": [
    "ret_aapl = calc_daily_ret(closes)\n",
    "ret_aapl.plot(figsize=(8,6));"
   ]
  },
  {
   "cell_type": "code",
   "execution_count": 13,
   "metadata": {},
   "outputs": [
    {
     "data": {
      "text/plain": [
       "(0.0014406606279301457, 0.019205777282655722)"
      ]
     },
     "execution_count": 13,
     "metadata": {},
     "output_type": "execute_result"
    }
   ],
   "source": [
    "mu = ret_aapl.mean()[0]\n",
    "sigma = ret_aapl.std()[0]\n",
    "mu, sigma"
   ]
  },
  {
   "cell_type": "markdown",
   "metadata": {},
   "source": [
    "No se toma la media sino la tasa libre de riesgo\n",
    "> Referencia: https://www.treasury.gov/resource-center/data-chart-center/interest-rates/Pages/TextView.aspx?data=yield"
   ]
  },
  {
   "cell_type": "code",
   "execution_count": 14,
   "metadata": {},
   "outputs": [],
   "source": [
    "# Tasa de bonos de 1 yr de fecha 11/23/21\n",
    "r = 0.21/360 # Tasa diaria"
   ]
  },
  {
   "cell_type": "markdown",
   "metadata": {},
   "source": [
    "- Simularemos el tiempo de contrato desde `HOY` hasta la fecha de `Expiry`, 10 escenarios:\n",
    "    \n",
    "    - Generar fechas"
   ]
  },
  {
   "cell_type": "code",
   "execution_count": 15,
   "metadata": {},
   "outputs": [],
   "source": [
    "from datetime import date\n",
    "\n",
    "today = pd.Timestamp(date.today())\n",
    "expiry = pd.to_datetime('2022-02-18')\n",
    "\n",
    "nscen = 10\n",
    "dates = pd.date_range(start=today, end = expiry, freq='B')\n",
    "ndays = len(dates)"
   ]
  },
  {
   "cell_type": "code",
   "execution_count": 16,
   "metadata": {},
   "outputs": [
    {
     "data": {
      "text/html": [
       "<div>\n",
       "<style scoped>\n",
       "    .dataframe tbody tr th:only-of-type {\n",
       "        vertical-align: middle;\n",
       "    }\n",
       "\n",
       "    .dataframe tbody tr th {\n",
       "        vertical-align: top;\n",
       "    }\n",
       "\n",
       "    .dataframe thead th {\n",
       "        text-align: right;\n",
       "    }\n",
       "</style>\n",
       "<table border=\"1\" class=\"dataframe\">\n",
       "  <thead>\n",
       "    <tr style=\"text-align: right;\">\n",
       "      <th></th>\n",
       "      <th>0</th>\n",
       "      <th>1</th>\n",
       "      <th>2</th>\n",
       "      <th>...</th>\n",
       "      <th>7</th>\n",
       "      <th>8</th>\n",
       "      <th>9</th>\n",
       "    </tr>\n",
       "  </thead>\n",
       "  <tbody>\n",
       "    <tr>\n",
       "      <th>2021-11-23</th>\n",
       "      <td>0.032</td>\n",
       "      <td>0.010</td>\n",
       "      <td>2.296e-03</td>\n",
       "      <td>...</td>\n",
       "      <td>9.741e-03</td>\n",
       "      <td>0.017</td>\n",
       "      <td>2.791e-02</td>\n",
       "    </tr>\n",
       "    <tr>\n",
       "      <th>2021-11-24</th>\n",
       "      <td>0.037</td>\n",
       "      <td>0.004</td>\n",
       "      <td>-1.463e-02</td>\n",
       "      <td>...</td>\n",
       "      <td>-1.826e-02</td>\n",
       "      <td>0.024</td>\n",
       "      <td>-6.856e-04</td>\n",
       "    </tr>\n",
       "    <tr>\n",
       "      <th>2021-11-25</th>\n",
       "      <td>0.019</td>\n",
       "      <td>-0.027</td>\n",
       "      <td>-1.503e-02</td>\n",
       "      <td>...</td>\n",
       "      <td>-3.727e-04</td>\n",
       "      <td>0.013</td>\n",
       "      <td>1.696e-03</td>\n",
       "    </tr>\n",
       "    <tr>\n",
       "      <th>2021-11-26</th>\n",
       "      <td>0.027</td>\n",
       "      <td>0.021</td>\n",
       "      <td>1.708e-02</td>\n",
       "      <td>...</td>\n",
       "      <td>5.718e-03</td>\n",
       "      <td>0.014</td>\n",
       "      <td>-2.389e-02</td>\n",
       "    </tr>\n",
       "    <tr>\n",
       "      <th>2021-11-29</th>\n",
       "      <td>0.019</td>\n",
       "      <td>0.034</td>\n",
       "      <td>2.443e-03</td>\n",
       "      <td>...</td>\n",
       "      <td>2.302e-02</td>\n",
       "      <td>0.005</td>\n",
       "      <td>2.093e-02</td>\n",
       "    </tr>\n",
       "    <tr>\n",
       "      <th>...</th>\n",
       "      <td>...</td>\n",
       "      <td>...</td>\n",
       "      <td>...</td>\n",
       "      <td>...</td>\n",
       "      <td>...</td>\n",
       "      <td>...</td>\n",
       "      <td>...</td>\n",
       "    </tr>\n",
       "    <tr>\n",
       "      <th>2022-02-14</th>\n",
       "      <td>0.130</td>\n",
       "      <td>0.272</td>\n",
       "      <td>-1.643e-02</td>\n",
       "      <td>...</td>\n",
       "      <td>3.084e-02</td>\n",
       "      <td>0.228</td>\n",
       "      <td>9.645e-02</td>\n",
       "    </tr>\n",
       "    <tr>\n",
       "      <th>2022-02-15</th>\n",
       "      <td>0.137</td>\n",
       "      <td>0.266</td>\n",
       "      <td>2.551e-05</td>\n",
       "      <td>...</td>\n",
       "      <td>3.805e-02</td>\n",
       "      <td>0.240</td>\n",
       "      <td>1.299e-01</td>\n",
       "    </tr>\n",
       "    <tr>\n",
       "      <th>2022-02-16</th>\n",
       "      <td>0.119</td>\n",
       "      <td>0.254</td>\n",
       "      <td>2.003e-02</td>\n",
       "      <td>...</td>\n",
       "      <td>4.190e-02</td>\n",
       "      <td>0.225</td>\n",
       "      <td>1.203e-01</td>\n",
       "    </tr>\n",
       "    <tr>\n",
       "      <th>2022-02-17</th>\n",
       "      <td>0.148</td>\n",
       "      <td>0.281</td>\n",
       "      <td>1.692e-02</td>\n",
       "      <td>...</td>\n",
       "      <td>2.412e-02</td>\n",
       "      <td>0.237</td>\n",
       "      <td>1.184e-01</td>\n",
       "    </tr>\n",
       "    <tr>\n",
       "      <th>2022-02-18</th>\n",
       "      <td>0.145</td>\n",
       "      <td>0.281</td>\n",
       "      <td>2.038e-02</td>\n",
       "      <td>...</td>\n",
       "      <td>-1.343e-02</td>\n",
       "      <td>0.213</td>\n",
       "      <td>1.084e-01</td>\n",
       "    </tr>\n",
       "  </tbody>\n",
       "</table>\n",
       "<p>64 rows × 10 columns</p>\n",
       "</div>"
      ],
      "text/plain": [
       "                0      1          2  ...          7      8          9\n",
       "2021-11-23  0.032  0.010  2.296e-03  ...  9.741e-03  0.017  2.791e-02\n",
       "2021-11-24  0.037  0.004 -1.463e-02  ... -1.826e-02  0.024 -6.856e-04\n",
       "2021-11-25  0.019 -0.027 -1.503e-02  ... -3.727e-04  0.013  1.696e-03\n",
       "2021-11-26  0.027  0.021  1.708e-02  ...  5.718e-03  0.014 -2.389e-02\n",
       "2021-11-29  0.019  0.034  2.443e-03  ...  2.302e-02  0.005  2.093e-02\n",
       "...           ...    ...        ...  ...        ...    ...        ...\n",
       "2022-02-14  0.130  0.272 -1.643e-02  ...  3.084e-02  0.228  9.645e-02\n",
       "2022-02-15  0.137  0.266  2.551e-05  ...  3.805e-02  0.240  1.299e-01\n",
       "2022-02-16  0.119  0.254  2.003e-02  ...  4.190e-02  0.225  1.203e-01\n",
       "2022-02-17  0.148  0.281  1.692e-02  ...  2.412e-02  0.237  1.184e-01\n",
       "2022-02-18  0.145  0.281  2.038e-02  ... -1.343e-02  0.213  1.084e-01\n",
       "\n",
       "[64 rows x 10 columns]"
      ]
     },
     "execution_count": 16,
     "metadata": {},
     "output_type": "execute_result"
    }
   ],
   "source": [
    "sim_ret = pd.DataFrame(sigma*np.random.randn(ndays,nscen)+r, index=dates)\n",
    "sim_ret.cumsum()\n",
    "# Las columnas son los escenarios y las filas son las días de contrato"
   ]
  },
  {
   "cell_type": "markdown",
   "metadata": {},
   "source": [
    "- Con los rendimientos simulados, calcular los escenarios de precios respectivos:"
   ]
  },
  {
   "cell_type": "code",
   "execution_count": 17,
   "metadata": {},
   "outputs": [
    {
     "data": {
      "text/html": [
       "<div>\n",
       "<style scoped>\n",
       "    .dataframe tbody tr th:only-of-type {\n",
       "        vertical-align: middle;\n",
       "    }\n",
       "\n",
       "    .dataframe tbody tr th {\n",
       "        vertical-align: top;\n",
       "    }\n",
       "\n",
       "    .dataframe thead th {\n",
       "        text-align: right;\n",
       "    }\n",
       "</style>\n",
       "<table border=\"1\" class=\"dataframe\">\n",
       "  <thead>\n",
       "    <tr style=\"text-align: right;\">\n",
       "      <th></th>\n",
       "      <th>0</th>\n",
       "      <th>1</th>\n",
       "      <th>2</th>\n",
       "      <th>...</th>\n",
       "      <th>7</th>\n",
       "      <th>8</th>\n",
       "      <th>9</th>\n",
       "    </tr>\n",
       "  </thead>\n",
       "  <tbody>\n",
       "    <tr>\n",
       "      <th>2021-11-23</th>\n",
       "      <td>166.289</td>\n",
       "      <td>162.635</td>\n",
       "      <td>161.390</td>\n",
       "      <td>...</td>\n",
       "      <td>162.596</td>\n",
       "      <td>163.836</td>\n",
       "      <td>165.577</td>\n",
       "    </tr>\n",
       "    <tr>\n",
       "      <th>2021-11-24</th>\n",
       "      <td>167.152</td>\n",
       "      <td>161.729</td>\n",
       "      <td>158.682</td>\n",
       "      <td>...</td>\n",
       "      <td>158.107</td>\n",
       "      <td>165.001</td>\n",
       "      <td>160.910</td>\n",
       "    </tr>\n",
       "    <tr>\n",
       "      <th>2021-11-25</th>\n",
       "      <td>164.031</td>\n",
       "      <td>156.770</td>\n",
       "      <td>158.619</td>\n",
       "      <td>...</td>\n",
       "      <td>160.960</td>\n",
       "      <td>163.052</td>\n",
       "      <td>161.293</td>\n",
       "    </tr>\n",
       "    <tr>\n",
       "      <th>2021-11-26</th>\n",
       "      <td>165.447</td>\n",
       "      <td>164.439</td>\n",
       "      <td>163.794</td>\n",
       "      <td>...</td>\n",
       "      <td>161.943</td>\n",
       "      <td>163.231</td>\n",
       "      <td>157.219</td>\n",
       "    </tr>\n",
       "    <tr>\n",
       "      <th>2021-11-29</th>\n",
       "      <td>164.034</td>\n",
       "      <td>166.611</td>\n",
       "      <td>161.414</td>\n",
       "      <td>...</td>\n",
       "      <td>164.770</td>\n",
       "      <td>161.862</td>\n",
       "      <td>164.426</td>\n",
       "    </tr>\n",
       "    <tr>\n",
       "      <th>...</th>\n",
       "      <td>...</td>\n",
       "      <td>...</td>\n",
       "      <td>...</td>\n",
       "      <td>...</td>\n",
       "      <td>...</td>\n",
       "      <td>...</td>\n",
       "      <td>...</td>\n",
       "    </tr>\n",
       "    <tr>\n",
       "      <th>2022-02-14</th>\n",
       "      <td>183.291</td>\n",
       "      <td>211.278</td>\n",
       "      <td>158.397</td>\n",
       "      <td>...</td>\n",
       "      <td>166.063</td>\n",
       "      <td>202.189</td>\n",
       "      <td>177.325</td>\n",
       "    </tr>\n",
       "    <tr>\n",
       "      <th>2022-02-15</th>\n",
       "      <td>184.604</td>\n",
       "      <td>210.141</td>\n",
       "      <td>161.024</td>\n",
       "      <td>...</td>\n",
       "      <td>167.265</td>\n",
       "      <td>204.687</td>\n",
       "      <td>183.359</td>\n",
       "    </tr>\n",
       "    <tr>\n",
       "      <th>2022-02-16</th>\n",
       "      <td>181.306</td>\n",
       "      <td>207.614</td>\n",
       "      <td>164.277</td>\n",
       "      <td>...</td>\n",
       "      <td>167.910</td>\n",
       "      <td>201.571</td>\n",
       "      <td>181.611</td>\n",
       "    </tr>\n",
       "    <tr>\n",
       "      <th>2022-02-17</th>\n",
       "      <td>186.626</td>\n",
       "      <td>213.274</td>\n",
       "      <td>163.767</td>\n",
       "      <td>...</td>\n",
       "      <td>164.951</td>\n",
       "      <td>204.018</td>\n",
       "      <td>181.257</td>\n",
       "    </tr>\n",
       "    <tr>\n",
       "      <th>2022-02-18</th>\n",
       "      <td>186.130</td>\n",
       "      <td>213.329</td>\n",
       "      <td>164.335</td>\n",
       "      <td>...</td>\n",
       "      <td>158.872</td>\n",
       "      <td>199.341</td>\n",
       "      <td>179.463</td>\n",
       "    </tr>\n",
       "  </tbody>\n",
       "</table>\n",
       "<p>64 rows × 10 columns</p>\n",
       "</div>"
      ],
      "text/plain": [
       "                  0        1        2  ...        7        8        9\n",
       "2021-11-23  166.289  162.635  161.390  ...  162.596  163.836  165.577\n",
       "2021-11-24  167.152  161.729  158.682  ...  158.107  165.001  160.910\n",
       "2021-11-25  164.031  156.770  158.619  ...  160.960  163.052  161.293\n",
       "2021-11-26  165.447  164.439  163.794  ...  161.943  163.231  157.219\n",
       "2021-11-29  164.034  166.611  161.414  ...  164.770  161.862  164.426\n",
       "...             ...      ...      ...  ...      ...      ...      ...\n",
       "2022-02-14  183.291  211.278  158.397  ...  166.063  202.189  177.325\n",
       "2022-02-15  184.604  210.141  161.024  ...  167.265  204.687  183.359\n",
       "2022-02-16  181.306  207.614  164.277  ...  167.910  201.571  181.611\n",
       "2022-02-17  186.626  213.274  163.767  ...  164.951  204.018  181.257\n",
       "2022-02-18  186.130  213.329  164.335  ...  158.872  199.341  179.463\n",
       "\n",
       "[64 rows x 10 columns]"
      ]
     },
     "execution_count": 17,
     "metadata": {},
     "output_type": "execute_result"
    }
   ],
   "source": [
    "S0 = closes.iloc[-1,0]  # Condición inicial del precio a simular\n",
    "sim_closes = S0*np.exp(sim_ret.cumsum())\n",
    "sim_closes"
   ]
  },
  {
   "cell_type": "markdown",
   "metadata": {},
   "source": [
    "- Graficar:"
   ]
  },
  {
   "cell_type": "code",
   "execution_count": 18,
   "metadata": {},
   "outputs": [
    {
     "data": {
      "image/png": "[encoded data removed]",
      "text/plain": [
       "<Figure size 576x432 with 1 Axes>"
      ]
     },
     "metadata": {
      "needs_background": "light"
     },
     "output_type": "display_data"
    }
   ],
   "source": [
    "sim_closes.plot(figsize=(8,6));"
   ]
  },
  {
   "cell_type": "code",
   "execution_count": 19,
   "metadata": {},
   "outputs": [
    {
     "data": {
      "image/png": "[encoded data removed]",
      "text/plain": [
       "<Figure size 576x432 with 1 Axes>"
      ]
     },
     "metadata": {
      "needs_background": "light"
     },
     "output_type": "display_data"
    }
   ],
   "source": [
    "# Se muestran los precios simulados con los precios descargados\n",
    "pd.concat([closes,sim_closes]).plot(figsize=(8,6));"
   ]
  },
  {
   "cell_type": "code",
   "execution_count": 20,
   "metadata": {},
   "outputs": [
    {
     "data": {
      "text/html": [
       "<div>\n",
       "<style scoped>\n",
       "    .dataframe tbody tr th:only-of-type {\n",
       "        vertical-align: middle;\n",
       "    }\n",
       "\n",
       "    .dataframe tbody tr th {\n",
       "        vertical-align: top;\n",
       "    }\n",
       "\n",
       "    .dataframe thead th {\n",
       "        text-align: right;\n",
       "    }\n",
       "</style>\n",
       "<table border=\"1\" class=\"dataframe\">\n",
       "  <thead>\n",
       "    <tr style=\"text-align: right;\">\n",
       "      <th></th>\n",
       "      <th>0</th>\n",
       "      <th>1</th>\n",
       "      <th>2</th>\n",
       "      <th>...</th>\n",
       "      <th>99997</th>\n",
       "      <th>99998</th>\n",
       "      <th>99999</th>\n",
       "    </tr>\n",
       "  </thead>\n",
       "  <tbody>\n",
       "    <tr>\n",
       "      <th>2021-11-23</th>\n",
       "      <td>159.403</td>\n",
       "      <td>164.172</td>\n",
       "      <td>158.805</td>\n",
       "      <td>...</td>\n",
       "      <td>159.860</td>\n",
       "      <td>156.310</td>\n",
       "      <td>164.096</td>\n",
       "    </tr>\n",
       "    <tr>\n",
       "      <th>2021-11-24</th>\n",
       "      <td>161.078</td>\n",
       "      <td>164.529</td>\n",
       "      <td>157.029</td>\n",
       "      <td>...</td>\n",
       "      <td>163.691</td>\n",
       "      <td>156.401</td>\n",
       "      <td>161.200</td>\n",
       "    </tr>\n",
       "    <tr>\n",
       "      <th>2021-11-25</th>\n",
       "      <td>162.123</td>\n",
       "      <td>161.230</td>\n",
       "      <td>156.361</td>\n",
       "      <td>...</td>\n",
       "      <td>160.274</td>\n",
       "      <td>158.727</td>\n",
       "      <td>161.688</td>\n",
       "    </tr>\n",
       "    <tr>\n",
       "      <th>2021-11-26</th>\n",
       "      <td>163.718</td>\n",
       "      <td>160.065</td>\n",
       "      <td>157.987</td>\n",
       "      <td>...</td>\n",
       "      <td>162.831</td>\n",
       "      <td>157.332</td>\n",
       "      <td>161.122</td>\n",
       "    </tr>\n",
       "    <tr>\n",
       "      <th>2021-11-27</th>\n",
       "      <td>160.659</td>\n",
       "      <td>153.014</td>\n",
       "      <td>163.415</td>\n",
       "      <td>...</td>\n",
       "      <td>166.543</td>\n",
       "      <td>158.376</td>\n",
       "      <td>158.903</td>\n",
       "    </tr>\n",
       "    <tr>\n",
       "      <th>...</th>\n",
       "      <td>...</td>\n",
       "      <td>...</td>\n",
       "      <td>...</td>\n",
       "      <td>...</td>\n",
       "      <td>...</td>\n",
       "      <td>...</td>\n",
       "      <td>...</td>\n",
       "    </tr>\n",
       "    <tr>\n",
       "      <th>2022-01-21</th>\n",
       "      <td>133.153</td>\n",
       "      <td>196.471</td>\n",
       "      <td>186.030</td>\n",
       "      <td>...</td>\n",
       "      <td>227.786</td>\n",
       "      <td>202.031</td>\n",
       "      <td>122.443</td>\n",
       "    </tr>\n",
       "    <tr>\n",
       "      <th>2022-01-22</th>\n",
       "      <td>137.825</td>\n",
       "      <td>198.380</td>\n",
       "      <td>186.446</td>\n",
       "      <td>...</td>\n",
       "      <td>221.660</td>\n",
       "      <td>194.985</td>\n",
       "      <td>122.427</td>\n",
       "    </tr>\n",
       "    <tr>\n",
       "      <th>2022-01-23</th>\n",
       "      <td>138.725</td>\n",
       "      <td>197.363</td>\n",
       "      <td>178.918</td>\n",
       "      <td>...</td>\n",
       "      <td>218.775</td>\n",
       "      <td>191.088</td>\n",
       "      <td>120.755</td>\n",
       "    </tr>\n",
       "    <tr>\n",
       "      <th>2022-01-24</th>\n",
       "      <td>138.048</td>\n",
       "      <td>192.963</td>\n",
       "      <td>178.950</td>\n",
       "      <td>...</td>\n",
       "      <td>224.403</td>\n",
       "      <td>191.253</td>\n",
       "      <td>117.583</td>\n",
       "    </tr>\n",
       "    <tr>\n",
       "      <th>2022-01-25</th>\n",
       "      <td>142.765</td>\n",
       "      <td>194.816</td>\n",
       "      <td>179.289</td>\n",
       "      <td>...</td>\n",
       "      <td>221.187</td>\n",
       "      <td>184.191</td>\n",
       "      <td>118.587</td>\n",
       "    </tr>\n",
       "  </tbody>\n",
       "</table>\n",
       "<p>64 rows × 100000 columns</p>\n",
       "</div>"
      ],
      "text/plain": [
       "              0        1        2      ...    99997    99998    99999\n",
       "2021-11-23  159.403  164.172  158.805  ...  159.860  156.310  164.096\n",
       "2021-11-24  161.078  164.529  157.029  ...  163.691  156.401  161.200\n",
       "2021-11-25  162.123  161.230  156.361  ...  160.274  158.727  161.688\n",
       "2021-11-26  163.718  160.065  157.987  ...  162.831  157.332  161.122\n",
       "2021-11-27  160.659  153.014  163.415  ...  166.543  158.376  158.903\n",
       "...             ...      ...      ...  ...      ...      ...      ...\n",
       "2022-01-21  133.153  196.471  186.030  ...  227.786  202.031  122.443\n",
       "2022-01-22  137.825  198.380  186.446  ...  221.660  194.985  122.427\n",
       "2022-01-23  138.725  197.363  178.918  ...  218.775  191.088  120.755\n",
       "2022-01-24  138.048  192.963  178.950  ...  224.403  191.253  117.583\n",
       "2022-01-25  142.765  194.816  179.289  ...  221.187  184.191  118.587\n",
       "\n",
       "[64 rows x 100000 columns]"
      ]
     },
     "execution_count": 20,
     "metadata": {},
     "output_type": "execute_result"
    }
   ],
   "source": [
    "from datetime import date\n",
    "Hoy = date.today()\n",
    "K = 150  # strike price\n",
    "nscen = 100000\n",
    "dates = pd.date_range(start= Hoy, periods = ndays)\n",
    "ndays = len(dates)\n",
    "S0 = closes.iloc[-1,0]  # Condición inicial del precio a simular\n",
    "\n",
    "sim_ret = pd.DataFrame(sigma*np.random.randn(ndays,nscen)+r,index=dates)\n",
    "sim_closes = S0*np.exp(sim_ret.cumsum())\n",
    "#strike = pd.DataFrame({'Strike':K*np.ones(ndays)}, index=dates)\n",
    "#simul = pd.concat([closes_aapl.T,strike.T,sim_closes.T]).T\n",
    "#simul.plot(figsize=(8,6),legend=False);\n",
    "sim_closes"
   ]
  },
  {
   "cell_type": "code",
   "execution_count": 21,
   "metadata": {},
   "outputs": [
    {
     "data": {
      "text/html": [
       "<div>\n",
       "<style scoped>\n",
       "    .dataframe tbody tr th:only-of-type {\n",
       "        vertical-align: middle;\n",
       "    }\n",
       "\n",
       "    .dataframe tbody tr th {\n",
       "        vertical-align: top;\n",
       "    }\n",
       "\n",
       "    .dataframe thead th {\n",
       "        text-align: right;\n",
       "    }\n",
       "</style>\n",
       "<table border=\"1\" class=\"dataframe\">\n",
       "  <thead>\n",
       "    <tr style=\"text-align: right;\">\n",
       "      <th></th>\n",
       "      <th>0</th>\n",
       "      <th>1</th>\n",
       "      <th>2</th>\n",
       "      <th>...</th>\n",
       "      <th>99997</th>\n",
       "      <th>99998</th>\n",
       "      <th>99999</th>\n",
       "    </tr>\n",
       "  </thead>\n",
       "  <tbody>\n",
       "    <tr>\n",
       "      <th>2021-11-23</th>\n",
       "      <td>NaN</td>\n",
       "      <td>NaN</td>\n",
       "      <td>NaN</td>\n",
       "      <td>...</td>\n",
       "      <td>NaN</td>\n",
       "      <td>NaN</td>\n",
       "      <td>NaN</td>\n",
       "    </tr>\n",
       "    <tr>\n",
       "      <th>2021-11-24</th>\n",
       "      <td>161.078</td>\n",
       "      <td>164.529</td>\n",
       "      <td>157.029</td>\n",
       "      <td>...</td>\n",
       "      <td>163.691</td>\n",
       "      <td>156.401</td>\n",
       "      <td>161.200</td>\n",
       "    </tr>\n",
       "    <tr>\n",
       "      <th>2021-11-25</th>\n",
       "      <td>162.123</td>\n",
       "      <td>161.230</td>\n",
       "      <td>156.361</td>\n",
       "      <td>...</td>\n",
       "      <td>160.274</td>\n",
       "      <td>158.727</td>\n",
       "      <td>161.688</td>\n",
       "    </tr>\n",
       "    <tr>\n",
       "      <th>2021-11-26</th>\n",
       "      <td>163.718</td>\n",
       "      <td>160.065</td>\n",
       "      <td>157.987</td>\n",
       "      <td>...</td>\n",
       "      <td>162.831</td>\n",
       "      <td>157.332</td>\n",
       "      <td>161.122</td>\n",
       "    </tr>\n",
       "    <tr>\n",
       "      <th>2021-11-27</th>\n",
       "      <td>160.659</td>\n",
       "      <td>153.014</td>\n",
       "      <td>163.415</td>\n",
       "      <td>...</td>\n",
       "      <td>166.543</td>\n",
       "      <td>158.376</td>\n",
       "      <td>158.903</td>\n",
       "    </tr>\n",
       "    <tr>\n",
       "      <th>...</th>\n",
       "      <td>...</td>\n",
       "      <td>...</td>\n",
       "      <td>...</td>\n",
       "      <td>...</td>\n",
       "      <td>...</td>\n",
       "      <td>...</td>\n",
       "      <td>...</td>\n",
       "    </tr>\n",
       "    <tr>\n",
       "      <th>2022-01-21</th>\n",
       "      <td>133.153</td>\n",
       "      <td>196.471</td>\n",
       "      <td>186.030</td>\n",
       "      <td>...</td>\n",
       "      <td>227.786</td>\n",
       "      <td>202.031</td>\n",
       "      <td>122.443</td>\n",
       "    </tr>\n",
       "    <tr>\n",
       "      <th>2022-01-22</th>\n",
       "      <td>137.825</td>\n",
       "      <td>198.380</td>\n",
       "      <td>186.446</td>\n",
       "      <td>...</td>\n",
       "      <td>221.660</td>\n",
       "      <td>194.985</td>\n",
       "      <td>122.427</td>\n",
       "    </tr>\n",
       "    <tr>\n",
       "      <th>2022-01-23</th>\n",
       "      <td>138.725</td>\n",
       "      <td>197.363</td>\n",
       "      <td>178.918</td>\n",
       "      <td>...</td>\n",
       "      <td>218.775</td>\n",
       "      <td>191.088</td>\n",
       "      <td>120.755</td>\n",
       "    </tr>\n",
       "    <tr>\n",
       "      <th>2022-01-24</th>\n",
       "      <td>138.048</td>\n",
       "      <td>192.963</td>\n",
       "      <td>178.950</td>\n",
       "      <td>...</td>\n",
       "      <td>224.403</td>\n",
       "      <td>191.253</td>\n",
       "      <td>117.583</td>\n",
       "    </tr>\n",
       "    <tr>\n",
       "      <th>2022-01-25</th>\n",
       "      <td>142.765</td>\n",
       "      <td>194.816</td>\n",
       "      <td>179.289</td>\n",
       "      <td>...</td>\n",
       "      <td>221.187</td>\n",
       "      <td>184.191</td>\n",
       "      <td>118.587</td>\n",
       "    </tr>\n",
       "  </tbody>\n",
       "</table>\n",
       "<p>64 rows × 100000 columns</p>\n",
       "</div>"
      ],
      "text/plain": [
       "              0        1        2      ...    99997    99998    99999\n",
       "2021-11-23      NaN      NaN      NaN  ...      NaN      NaN      NaN\n",
       "2021-11-24  161.078  164.529  157.029  ...  163.691  156.401  161.200\n",
       "2021-11-25  162.123  161.230  156.361  ...  160.274  158.727  161.688\n",
       "2021-11-26  163.718  160.065  157.987  ...  162.831  157.332  161.122\n",
       "2021-11-27  160.659  153.014  163.415  ...  166.543  158.376  158.903\n",
       "...             ...      ...      ...  ...      ...      ...      ...\n",
       "2022-01-21  133.153  196.471  186.030  ...  227.786  202.031  122.443\n",
       "2022-01-22  137.825  198.380  186.446  ...  221.660  194.985  122.427\n",
       "2022-01-23  138.725  197.363  178.918  ...  218.775  191.088  120.755\n",
       "2022-01-24  138.048  192.963  178.950  ...  224.403  191.253  117.583\n",
       "2022-01-25  142.765  194.816  179.289  ...  221.187  184.191  118.587\n",
       "\n",
       "[64 rows x 100000 columns]"
      ]
     },
     "execution_count": 21,
     "metadata": {},
     "output_type": "execute_result"
    }
   ],
   "source": [
    "sim_closes.iloc[0, :] = closes.iloc[-1]\n",
    "sim_closes"
   ]
  },
  {
   "cell_type": "code",
   "execution_count": 22,
   "metadata": {},
   "outputs": [
    {
     "data": {
      "image/png": "[encoded data removed]",
      "text/plain": [
       "<Figure size 432x288 with 1 Axes>"
      ]
     },
     "metadata": {
      "needs_background": "light"
     },
     "output_type": "display_data"
    }
   ],
   "source": [
    "strike = 150\n",
    "put = pd.DataFrame({'Prima':np.exp(-r*ndays) \\\n",
    "              *np.fmax(strike-sim_closes, 0).mean(axis=1)}, index=dates)\n",
    "put.plot();"
   ]
  },
  {
   "cell_type": "markdown",
   "metadata": {},
   "source": [
    "La valuación de la opción es:"
   ]
  },
  {
   "cell_type": "code",
   "execution_count": 23,
   "metadata": {},
   "outputs": [
    {
     "data": {
      "text/plain": [
       "Prima    2.924\n",
       "Name: 2022-01-25 00:00:00, dtype: float64"
      ]
     },
     "execution_count": 23,
     "metadata": {},
     "output_type": "execute_result"
    }
   ],
   "source": [
    "put.iloc[-1]"
   ]
  },
  {
   "cell_type": "markdown",
   "metadata": {},
   "source": [
    "Intervalo de confianza del 99%"
   ]
  },
  {
   "cell_type": "code",
   "execution_count": 24,
   "metadata": {},
   "outputs": [
    {
     "name": "stdout",
     "output_type": "stream",
     "text": [
      "(2.711185725642615, 3.137656151052611)\n",
      "(2.711189795750768, 3.137652080944458)\n"
     ]
    }
   ],
   "source": [
    "confianza = 0.99\n",
    "sigma_est = sim_closes.iloc[-1].sem()\n",
    "mean_est = put.iloc[-1].Prima\n",
    "i1 = st.t.interval(confianza,nscen-1, loc=mean_est, scale=sigma_est)\n",
    "i2 = st.norm.interval(confianza, loc=mean_est, scale=sigma_est)\n",
    "print(i1)\n",
    "print(i2)"
   ]
  },
  {
   "cell_type": "markdown",
   "metadata": {},
   "source": [
    "#### Precios simulados usando técnicas de reducción de varianza"
   ]
  },
  {
   "cell_type": "code",
   "execution_count": 25,
   "metadata": {},
   "outputs": [
    {
     "data": {
      "image/png": "[encoded data removed]",
      "text/plain": [
       "<Figure size 432x288 with 1 Axes>"
      ]
     },
     "metadata": {
      "needs_background": "light"
     },
     "output_type": "display_data"
    }
   ],
   "source": [
    "# Usando muestreo estratificado----> #estratros = nscen\n",
    "U = (np.arange(0,nscen)+np.random.rand(ndays,nscen))/nscen\n",
    "Z = st.norm.ppf(U)\n",
    "\n",
    "sim_ret2 = pd.DataFrame(sigma*Z+r,index=dates)\n",
    "sim_closes2 = S0*np.exp(sim_ret.cumsum())\n",
    "\n",
    "# Función de pago\n",
    "strike = pd.DataFrame(K*np.ones([ndays,nscen]), index=dates)\n",
    "put = pd.DataFrame({'Prima':np.exp(-r*ndays) \\\n",
    "              *np.fmax(strike-sim_closes2,np.zeros([ndays,nscen])).T.mean()}, index=dates)\n",
    "put.plot();"
   ]
  },
  {
   "cell_type": "markdown",
   "metadata": {},
   "source": [
    "La valuación de la opción es:"
   ]
  },
  {
   "cell_type": "code",
   "execution_count": 26,
   "metadata": {},
   "outputs": [
    {
     "data": {
      "text/plain": [
       "Prima    2.924\n",
       "Name: 2022-01-25 00:00:00, dtype: float64"
      ]
     },
     "execution_count": 26,
     "metadata": {},
     "output_type": "execute_result"
    }
   ],
   "source": [
    "put.iloc[-1]"
   ]
  },
  {
   "cell_type": "markdown",
   "metadata": {},
   "source": [
    "Intervalo de confianza del 99%"
   ]
  },
  {
   "cell_type": "code",
   "execution_count": 27,
   "metadata": {},
   "outputs": [
    {
     "name": "stdout",
     "output_type": "stream",
     "text": [
      "(2.711185725642615, 3.137656151052611)\n",
      "(2.711185725642615, 3.137656151052611)\n"
     ]
    }
   ],
   "source": [
    "confianza = 0.99\n",
    "sigma_est = sim_closes2.iloc[-1].sem()\n",
    "mean_est = put.iloc[-1].Prima\n",
    "i1 = st.t.interval(confianza,nscen-1, loc=mean_est, scale=sigma_est)\n",
    "i2 = st.norm.interval(confianza, loc=mean_est, scale=sigma_est)\n",
    "print(i1)\n",
    "print(i1)"
   ]
  },
  {
   "cell_type": "markdown",
   "metadata": {},
   "source": [
    "#### Análisis de la distribución de los rendimientos"
   ]
  },
  {
   "cell_type": "markdown",
   "metadata": {},
   "source": [
    "#### Ajustando norm"
   ]
  },
  {
   "cell_type": "code",
   "execution_count": 28,
   "metadata": {},
   "outputs": [
    {
     "data": {
      "image/png": "[encoded data removed]",
      "text/plain": [
       "<Figure size 432x288 with 1 Axes>"
      ]
     },
     "metadata": {
      "needs_background": "light"
     },
     "output_type": "display_data"
    }
   ],
   "source": [
    "ren = calc_daily_ret(closes) # rendimientos \n",
    "y,x,des = plt.hist(ren['Adj Close'],bins=50,density=True,label='Histograma rendimientos')\n",
    "\n",
    "mu_fit,sd_fit = st.norm.fit(ren) # Se ajustan0 los parámetros de una normal\n",
    "# Valores máximo y mínimo de los rendiemientos a generar\n",
    "ren_max = max(x);ren_min = min(x)\n",
    "# Vector de rendimientos generados\n",
    "ren_gen = np.arange(ren_min,ren_max,0.001)\n",
    "# Generación de la normal ajustado con los parámetros encontrados\n",
    "curve_fit = st.norm.pdf(ren_gen,loc=mu_fit,scale=sd_fit)\n",
    "plt.plot(ren_gen,curve_fit,label='Distribución ajustada')\n",
    "plt.legend()\n",
    "plt.show()"
   ]
  },
  {
   "cell_type": "markdown",
   "metadata": {},
   "source": [
    "#### Ajustando t"
   ]
  },
  {
   "cell_type": "code",
   "execution_count": 29,
   "metadata": {},
   "outputs": [
    {
     "data": {
      "image/png": "[encoded data removed]",
      "text/plain": [
       "<Figure size 432x288 with 1 Axes>"
      ]
     },
     "metadata": {
      "needs_background": "light"
     },
     "output_type": "display_data"
    }
   ],
   "source": [
    "ren = calc_daily_ret(closes) # rendimientos \n",
    "y,x,des = plt.hist(ren['Adj Close'],bins=50,density=True,label='Histograma rendimientos')\n",
    "\n",
    "dof,mu_fit,sd_fit = st.t.fit(ren.values) # Se ajustan los parámetros de una normal\n",
    "# Valores máximo y mínimo de los rendiemientos a generar\n",
    "# ren_max = max(x);ren_min = min(x)\n",
    "# Vector de rendimientos generados\n",
    "ren_gen = np.arange(ren_min,ren_max,0.001)\n",
    "# Generación de la normal ajustado con los parámetros encontrados\n",
    "curve_fit = st.t.pdf(ren_gen, df=dof,loc=mu_fit,scale=sd_fit)\n",
    "plt.plot(ren_gen,curve_fit,label='Distribución ajustada')\n",
    "plt.legend()\n",
    "plt.show()### Ajustando t"
   ]
  },
  {
   "cell_type": "code",
   "execution_count": 30,
   "metadata": {},
   "outputs": [
    {
     "data": {
      "image/png": "[encoded data removed]",
      "text/plain": [
       "<Figure size 432x288 with 1 Axes>"
      ]
     },
     "metadata": {
      "needs_background": "light"
     },
     "output_type": "display_data"
    }
   ],
   "source": [
    "st.probplot(ren['Adj Close'],sparams= dof, dist='t', plot=plt);"
   ]
  },
  {
   "cell_type": "markdown",
   "metadata": {},
   "source": [
    "#### 3. Valuación usando simulación: uso del histograma de rendimientos\n",
    "\n",
    "Todo el análisis anterior se mantiene. Solo cambia la forma de generar los números aleatorios para la simulación montecarlo.\n",
    "\n",
    "Ahora, generemos un histograma de los rendimientos diarios para generar valores aleatorios de los rendimientos simulados."
   ]
  },
  {
   "cell_type": "markdown",
   "metadata": {},
   "source": [
    "- Primero, cantidad de días y número de escenarios de simulación"
   ]
  },
  {
   "cell_type": "code",
   "execution_count": 31,
   "metadata": {},
   "outputs": [],
   "source": [
    "ndays = 109 \n",
    "nscen = 10"
   ]
  },
  {
   "cell_type": "markdown",
   "metadata": {},
   "source": [
    "- Del histograma anterior, ya conocemos las probabilidades de ocurrencia, lo que se llamó como variable `y`"
   ]
  },
  {
   "cell_type": "code",
   "execution_count": 32,
   "metadata": {},
   "outputs": [],
   "source": [
    "prob = y/np.sum(y)\n",
    "values = x[1:]"
   ]
  },
  {
   "cell_type": "markdown",
   "metadata": {},
   "source": [
    "- Con esto, generamos los números aleatorios correspondientes a los rendimientos (tantos como días por número de escenarios)."
   ]
  },
  {
   "cell_type": "code",
   "execution_count": 33,
   "metadata": {},
   "outputs": [
    {
     "data": {
      "text/html": [
       "<div>\n",
       "<style scoped>\n",
       "    .dataframe tbody tr th:only-of-type {\n",
       "        vertical-align: middle;\n",
       "    }\n",
       "\n",
       "    .dataframe tbody tr th {\n",
       "        vertical-align: top;\n",
       "    }\n",
       "\n",
       "    .dataframe thead th {\n",
       "        text-align: right;\n",
       "    }\n",
       "</style>\n",
       "<table border=\"1\" class=\"dataframe\">\n",
       "  <thead>\n",
       "    <tr style=\"text-align: right;\">\n",
       "      <th></th>\n",
       "      <th>0</th>\n",
       "      <th>1</th>\n",
       "      <th>2</th>\n",
       "      <th>...</th>\n",
       "      <th>7</th>\n",
       "      <th>8</th>\n",
       "      <th>9</th>\n",
       "    </tr>\n",
       "  </thead>\n",
       "  <tbody>\n",
       "    <tr>\n",
       "      <th>2021-11-23</th>\n",
       "      <td>-0.002</td>\n",
       "      <td>0.033</td>\n",
       "      <td>0.013</td>\n",
       "      <td>...</td>\n",
       "      <td>0.013</td>\n",
       "      <td>-0.002</td>\n",
       "      <td>-0.002</td>\n",
       "    </tr>\n",
       "    <tr>\n",
       "      <th>2021-11-24</th>\n",
       "      <td>0.003</td>\n",
       "      <td>0.013</td>\n",
       "      <td>-0.002</td>\n",
       "      <td>...</td>\n",
       "      <td>-0.007</td>\n",
       "      <td>0.003</td>\n",
       "      <td>-0.042</td>\n",
       "    </tr>\n",
       "    <tr>\n",
       "      <th>2021-11-25</th>\n",
       "      <td>0.048</td>\n",
       "      <td>0.023</td>\n",
       "      <td>0.018</td>\n",
       "      <td>...</td>\n",
       "      <td>0.013</td>\n",
       "      <td>-0.002</td>\n",
       "      <td>0.018</td>\n",
       "    </tr>\n",
       "    <tr>\n",
       "      <th>2021-11-26</th>\n",
       "      <td>0.023</td>\n",
       "      <td>-0.002</td>\n",
       "      <td>0.008</td>\n",
       "      <td>...</td>\n",
       "      <td>0.013</td>\n",
       "      <td>-0.002</td>\n",
       "      <td>0.043</td>\n",
       "    </tr>\n",
       "    <tr>\n",
       "      <th>2021-11-27</th>\n",
       "      <td>-0.027</td>\n",
       "      <td>0.003</td>\n",
       "      <td>0.008</td>\n",
       "      <td>...</td>\n",
       "      <td>0.033</td>\n",
       "      <td>-0.042</td>\n",
       "      <td>0.023</td>\n",
       "    </tr>\n",
       "    <tr>\n",
       "      <th>...</th>\n",
       "      <td>...</td>\n",
       "      <td>...</td>\n",
       "      <td>...</td>\n",
       "      <td>...</td>\n",
       "      <td>...</td>\n",
       "      <td>...</td>\n",
       "      <td>...</td>\n",
       "    </tr>\n",
       "    <tr>\n",
       "      <th>2022-03-07</th>\n",
       "      <td>0.008</td>\n",
       "      <td>0.013</td>\n",
       "      <td>0.013</td>\n",
       "      <td>...</td>\n",
       "      <td>0.003</td>\n",
       "      <td>-0.002</td>\n",
       "      <td>0.038</td>\n",
       "    </tr>\n",
       "    <tr>\n",
       "      <th>2022-03-08</th>\n",
       "      <td>-0.007</td>\n",
       "      <td>0.008</td>\n",
       "      <td>-0.032</td>\n",
       "      <td>...</td>\n",
       "      <td>0.023</td>\n",
       "      <td>-0.017</td>\n",
       "      <td>0.003</td>\n",
       "    </tr>\n",
       "    <tr>\n",
       "      <th>2022-03-09</th>\n",
       "      <td>-0.017</td>\n",
       "      <td>0.003</td>\n",
       "      <td>0.033</td>\n",
       "      <td>...</td>\n",
       "      <td>0.033</td>\n",
       "      <td>-0.042</td>\n",
       "      <td>-0.002</td>\n",
       "    </tr>\n",
       "    <tr>\n",
       "      <th>2022-03-10</th>\n",
       "      <td>0.018</td>\n",
       "      <td>-0.002</td>\n",
       "      <td>0.003</td>\n",
       "      <td>...</td>\n",
       "      <td>0.003</td>\n",
       "      <td>-0.007</td>\n",
       "      <td>-0.002</td>\n",
       "    </tr>\n",
       "    <tr>\n",
       "      <th>2022-03-11</th>\n",
       "      <td>0.013</td>\n",
       "      <td>0.003</td>\n",
       "      <td>-0.002</td>\n",
       "      <td>...</td>\n",
       "      <td>0.003</td>\n",
       "      <td>0.008</td>\n",
       "      <td>-0.032</td>\n",
       "    </tr>\n",
       "  </tbody>\n",
       "</table>\n",
       "<p>109 rows × 10 columns</p>\n",
       "</div>"
      ],
      "text/plain": [
       "                0      1      2  ...      7      8      9\n",
       "2021-11-23 -0.002  0.033  0.013  ...  0.013 -0.002 -0.002\n",
       "2021-11-24  0.003  0.013 -0.002  ... -0.007  0.003 -0.042\n",
       "2021-11-25  0.048  0.023  0.018  ...  0.013 -0.002  0.018\n",
       "2021-11-26  0.023 -0.002  0.008  ...  0.013 -0.002  0.043\n",
       "2021-11-27 -0.027  0.003  0.008  ...  0.033 -0.042  0.023\n",
       "...           ...    ...    ...  ...    ...    ...    ...\n",
       "2022-03-07  0.008  0.013  0.013  ...  0.003 -0.002  0.038\n",
       "2022-03-08 -0.007  0.008 -0.032  ...  0.023 -0.017  0.003\n",
       "2022-03-09 -0.017  0.003  0.033  ...  0.033 -0.042 -0.002\n",
       "2022-03-10  0.018 -0.002  0.003  ...  0.003 -0.007 -0.002\n",
       "2022-03-11  0.013  0.003 -0.002  ...  0.003  0.008 -0.032\n",
       "\n",
       "[109 rows x 10 columns]"
      ]
     },
     "execution_count": 33,
     "metadata": {},
     "output_type": "execute_result"
    }
   ],
   "source": [
    "ret = np.random.choice(values, ndays*nscen, p=prob)\n",
    "dates = pd.date_range(start=Hoy,periods=ndays)\n",
    "sim_ret_hist = pd.DataFrame(ret.reshape((ndays,nscen)),index=dates)\n",
    "sim_ret_hist"
   ]
  },
  {
   "cell_type": "code",
   "execution_count": 34,
   "metadata": {},
   "outputs": [
    {
     "data": {
      "text/html": [
       "<div>\n",
       "<style scoped>\n",
       "    .dataframe tbody tr th:only-of-type {\n",
       "        vertical-align: middle;\n",
       "    }\n",
       "\n",
       "    .dataframe tbody tr th {\n",
       "        vertical-align: top;\n",
       "    }\n",
       "\n",
       "    .dataframe thead th {\n",
       "        text-align: right;\n",
       "    }\n",
       "</style>\n",
       "<table border=\"1\" class=\"dataframe\">\n",
       "  <thead>\n",
       "    <tr style=\"text-align: right;\">\n",
       "      <th></th>\n",
       "      <th>0</th>\n",
       "      <th>1</th>\n",
       "      <th>2</th>\n",
       "      <th>...</th>\n",
       "      <th>7</th>\n",
       "      <th>8</th>\n",
       "      <th>9</th>\n",
       "    </tr>\n",
       "  </thead>\n",
       "  <tbody>\n",
       "    <tr>\n",
       "      <th>2021-11-23</th>\n",
       "      <td>160.660</td>\n",
       "      <td>166.402</td>\n",
       "      <td>163.096</td>\n",
       "      <td>...</td>\n",
       "      <td>163.096</td>\n",
       "      <td>160.660</td>\n",
       "      <td>160.660</td>\n",
       "    </tr>\n",
       "    <tr>\n",
       "      <th>2021-11-24</th>\n",
       "      <td>161.106</td>\n",
       "      <td>168.548</td>\n",
       "      <td>162.731</td>\n",
       "      <td>...</td>\n",
       "      <td>161.917</td>\n",
       "      <td>161.106</td>\n",
       "      <td>153.993</td>\n",
       "    </tr>\n",
       "    <tr>\n",
       "      <th>2021-11-25</th>\n",
       "      <td>169.017</td>\n",
       "      <td>172.443</td>\n",
       "      <td>165.658</td>\n",
       "      <td>...</td>\n",
       "      <td>164.004</td>\n",
       "      <td>160.746</td>\n",
       "      <td>156.763</td>\n",
       "    </tr>\n",
       "    <tr>\n",
       "      <th>2021-11-26</th>\n",
       "      <td>172.922</td>\n",
       "      <td>172.057</td>\n",
       "      <td>166.955</td>\n",
       "      <td>...</td>\n",
       "      <td>166.119</td>\n",
       "      <td>160.386</td>\n",
       "      <td>163.637</td>\n",
       "    </tr>\n",
       "    <tr>\n",
       "      <th>2021-11-27</th>\n",
       "      <td>168.261</td>\n",
       "      <td>172.535</td>\n",
       "      <td>168.261</td>\n",
       "      <td>...</td>\n",
       "      <td>171.672</td>\n",
       "      <td>153.731</td>\n",
       "      <td>167.419</td>\n",
       "    </tr>\n",
       "    <tr>\n",
       "      <th>...</th>\n",
       "      <td>...</td>\n",
       "      <td>...</td>\n",
       "      <td>...</td>\n",
       "      <td>...</td>\n",
       "      <td>...</td>\n",
       "      <td>...</td>\n",
       "      <td>...</td>\n",
       "    </tr>\n",
       "    <tr>\n",
       "      <th>2022-03-07</th>\n",
       "      <td>331.811</td>\n",
       "      <td>248.033</td>\n",
       "      <td>268.765</td>\n",
       "      <td>...</td>\n",
       "      <td>288.323</td>\n",
       "      <td>232.371</td>\n",
       "      <td>240.678</td>\n",
       "    </tr>\n",
       "    <tr>\n",
       "      <th>2022-03-08</th>\n",
       "      <td>329.412</td>\n",
       "      <td>249.974</td>\n",
       "      <td>260.211</td>\n",
       "      <td>...</td>\n",
       "      <td>294.986</td>\n",
       "      <td>228.388</td>\n",
       "      <td>241.347</td>\n",
       "    </tr>\n",
       "    <tr>\n",
       "      <th>2022-03-09</th>\n",
       "      <td>323.764</td>\n",
       "      <td>250.669</td>\n",
       "      <td>268.909</td>\n",
       "      <td>...</td>\n",
       "      <td>304.846</td>\n",
       "      <td>218.911</td>\n",
       "      <td>240.807</td>\n",
       "    </tr>\n",
       "    <tr>\n",
       "      <th>2022-03-10</th>\n",
       "      <td>329.588</td>\n",
       "      <td>250.108</td>\n",
       "      <td>269.657</td>\n",
       "      <td>...</td>\n",
       "      <td>305.694</td>\n",
       "      <td>217.328</td>\n",
       "      <td>240.268</td>\n",
       "    </tr>\n",
       "    <tr>\n",
       "      <th>2022-03-11</th>\n",
       "      <td>333.838</td>\n",
       "      <td>250.803</td>\n",
       "      <td>269.054</td>\n",
       "      <td>...</td>\n",
       "      <td>306.544</td>\n",
       "      <td>219.028</td>\n",
       "      <td>232.621</td>\n",
       "    </tr>\n",
       "  </tbody>\n",
       "</table>\n",
       "<p>109 rows × 10 columns</p>\n",
       "</div>"
      ],
      "text/plain": [
       "                  0        1        2  ...        7        8        9\n",
       "2021-11-23  160.660  166.402  163.096  ...  163.096  160.660  160.660\n",
       "2021-11-24  161.106  168.548  162.731  ...  161.917  161.106  153.993\n",
       "2021-11-25  169.017  172.443  165.658  ...  164.004  160.746  156.763\n",
       "2021-11-26  172.922  172.057  166.955  ...  166.119  160.386  163.637\n",
       "2021-11-27  168.261  172.535  168.261  ...  171.672  153.731  167.419\n",
       "...             ...      ...      ...  ...      ...      ...      ...\n",
       "2022-03-07  331.811  248.033  268.765  ...  288.323  232.371  240.678\n",
       "2022-03-08  329.412  249.974  260.211  ...  294.986  228.388  241.347\n",
       "2022-03-09  323.764  250.669  268.909  ...  304.846  218.911  240.807\n",
       "2022-03-10  329.588  250.108  269.657  ...  305.694  217.328  240.268\n",
       "2022-03-11  333.838  250.803  269.054  ...  306.544  219.028  232.621\n",
       "\n",
       "[109 rows x 10 columns]"
      ]
     },
     "execution_count": 34,
     "metadata": {},
     "output_type": "execute_result"
    }
   ],
   "source": [
    "sim_closes_hist = (closes.iloc[-1,0])*np.exp(sim_ret_hist.cumsum())\n",
    "sim_closes_hist"
   ]
  },
  {
   "cell_type": "code",
   "execution_count": 35,
   "metadata": {},
   "outputs": [
    {
     "data": {
      "image/png": "[encoded data removed]",
      "text/plain": [
       "<Figure size 576x432 with 1 Axes>"
      ]
     },
     "metadata": {
      "needs_background": "light"
     },
     "output_type": "display_data"
    }
   ],
   "source": [
    "sim_closes_hist.plot(figsize=(8,6),legend=False);"
   ]
  },
  {
   "cell_type": "code",
   "execution_count": 36,
   "metadata": {},
   "outputs": [
    {
     "data": {
      "text/plain": [
       "Text(0.5, 1.0, 'Simulación usando el histograma de los rendimientos')"
      ]
     },
     "execution_count": 36,
     "metadata": {},
     "output_type": "execute_result"
    },
    {
     "data": {
      "image/png": "[encoded data removed]",
      "text/plain": [
       "<Figure size 576x432 with 1 Axes>"
      ]
     },
     "metadata": {
      "needs_background": "light"
     },
     "output_type": "display_data"
    }
   ],
   "source": [
    "pd.concat([closes,sim_closes_hist]).plot(figsize=(8,6),legend=False);\n",
    "plt.title('Simulación usando el histograma de los rendimientos')"
   ]
  },
  {
   "cell_type": "code",
   "execution_count": 37,
   "metadata": {},
   "outputs": [],
   "source": [
    "K=240\n",
    "ndays = 109\n",
    "nscen = 10000\n",
    "freq, values = np.histogram(ret+r-mu, bins=2000)\n",
    "prob = freq/np.sum(freq)\n",
    "ret=np.random.choice(values[1:],ndays*nscen,p=prob)\n",
    "dates=pd.date_range('2018-10-29',periods=ndays)\n",
    "sim_ret_hist = pd.DataFrame(ret.reshape((ndays,nscen)),index=dates)\n",
    "sim_closes_hist = (closes.iloc[-1,0])*np.exp(sim_ret_hist.cumsum())"
   ]
  },
  {
   "cell_type": "code",
   "execution_count": 38,
   "metadata": {},
   "outputs": [
    {
     "data": {
      "image/png": "[encoded data removed]",
      "text/plain": [
       "<Figure size 432x288 with 1 Axes>"
      ]
     },
     "metadata": {
      "needs_background": "light"
     },
     "output_type": "display_data"
    }
   ],
   "source": [
    "strike = pd.DataFrame(K*np.ones(ndays*nscen).reshape((ndays,nscen)), index=dates)\n",
    "put_hist = pd.DataFrame({'Prima':np.exp(-r*ndays)*np.fmax(strike-sim_closes_hist,np.zeros(ndays*nscen).reshape((ndays,nscen))).T.mean()}, index=dates)\n",
    "put_hist.plot();"
   ]
  },
  {
   "cell_type": "code",
   "execution_count": 39,
   "metadata": {},
   "outputs": [
    {
     "data": {
      "text/plain": [
       "Prima    10.184\n",
       "Name: 2019-02-14 00:00:00, dtype: float64"
      ]
     },
     "execution_count": 39,
     "metadata": {},
     "output_type": "execute_result"
    }
   ],
   "source": [
    "put_hist.iloc[-1]"
   ]
  },
  {
   "cell_type": "code",
   "execution_count": 40,
   "metadata": {},
   "outputs": [
    {
     "name": "stdout",
     "output_type": "stream",
     "text": [
      "(9.175159336472026, 11.193295634464553)\n",
      "(9.175159336472026, 11.193295634464553)\n"
     ]
    }
   ],
   "source": [
    "confianza = 0.95\n",
    "sigma_est = sim_closes_hist.iloc[-1].sem()\n",
    "mean_est = put_hist.iloc[-1].Prima\n",
    "i1 = st.t.interval(confianza,nscen-1, loc=mean_est, scale=sigma_est)\n",
    "i2 = st.norm.interval(confianza, loc=mean_est, scale=sigma_est)\n",
    "print(i1)\n",
    "print(i1)"
   ]
  },
  {
   "cell_type": "markdown",
   "metadata": {},
   "source": [
    "## Punto 2."
   ]
  },
  {
   "cell_type": "markdown",
   "metadata": {},
   "source": [
    "1. Ecuación de Black-Scholes\n",
    "$$ dS(t) = \\mu S(t) + \\sigma S(t)dW_t$$\n",
    "2. Solución de la ecuación\n",
    "\n",
    "El valor de una opción Europea de vainilla $V_t$ puede obtenerse por:\n",
    "$$V_t = F(t,S_t)$$ donde\n",
    "\n",
    "$$F(t,S_t)=S_tN(d_1)-Ke^{r(t-t)}N(d_2)$$\n",
    "$$N(x)=\\frac{1}{\\sqrt(2\\pi)}\\int^x_{-\\inf}e^{-y^2/2}dy$$\n",
    "$$d1=\\frac{ln(S_t/K)+(r+\\frac{1}{2}\\sigma^2)(T-t)}{\\sigma\\sqrt(T-t)}$$\n",
    "$$d2=\\frac{ln(S_t/K)+(r-\\frac{1}{2}\\sigma^2)(T-t)}{\\sigma\\sqrt(T-t)}$$"
   ]
  },
  {
   "cell_type": "markdown",
   "metadata": {},
   "source": [
    "* Comprobacion teorica\n",
    "$$N(x)=\\frac{1}{\\sqrt(2\\pi)}\\int^x_{-\\inf}e^{-y^2/2}dy$$\n",
    "$$d1=\\frac{ln(205/150)+(0.21+\\frac{1}{2}0.019^2)(T-t)}{0.019\\sqrt(T-t)}$$\n",
    "$$d2=1-d1$$\n",
    "$$F(t,S_t)=205N(d_1)-150e^{0.21(t-t)}N(d_2)$$"
   ]
  }
 ],
 "metadata": {
  "kernelspec": {
   "display_name": "Python 3",
   "language": "python",
   "name": "python3"
  },
  "language_info": {
   "codemirror_mode": {
    "name": "ipython",
    "version": 3
   },
   "file_extension": ".py",
   "mimetype": "text/x-python",
   "name": "python",
   "nbconvert_exporter": "python",
   "pygments_lexer": "ipython3",
   "version": "3.8.3"
  }
 },
 "nbformat": 4,
 "nbformat_minor": 4
}
